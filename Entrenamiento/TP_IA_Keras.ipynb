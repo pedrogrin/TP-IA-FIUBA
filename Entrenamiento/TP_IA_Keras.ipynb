{
 "cells": [
  {
   "cell_type": "code",
   "execution_count": 1,
   "id": "24457d57",
   "metadata": {},
   "outputs": [
    {
     "name": "stdout",
     "output_type": "stream",
     "text": [
      "Pandas Version: 1.5.3\n"
     ]
    }
   ],
   "source": [
    "import pandas as pd\n",
    "#Configuración de parametros de Pandas para mejor visualización\n",
    "pd.set_option('display.max_columns', None)\n",
    "pd.set_option('display.max_rows', None)\n",
    "pd.set_option('display.max_colwidth', None)\n",
    "pd.set_option('display.precision', 3)\n",
    "pd.set_option('plotting.backend', 'matplotlib') \n",
    "pd.options.mode.chained_assignment = None\n",
    "\n",
    "# En produccion eliminar, se incluye por informacion\n",
    "print(f'Pandas Version: {pd.__version__}') "
   ]
  },
  {
   "cell_type": "code",
   "execution_count": 2,
   "id": "3fba1fe1",
   "metadata": {},
   "outputs": [],
   "source": [
    "import matplotlib.pyplot as plt"
   ]
  },
  {
   "cell_type": "code",
   "execution_count": 3,
   "id": "07ef220c",
   "metadata": {},
   "outputs": [],
   "source": [
    "import numpy as np"
   ]
  },
  {
   "cell_type": "code",
   "execution_count": 4,
   "id": "b85a3b11",
   "metadata": {},
   "outputs": [],
   "source": [
    "X_train = pd.read_csv('D:\\\\Pedro\\\\FIUBA\\\\Inteligencias Artificial\\\\X_train_con_UMAP.csv', encoding = 'unicode_escape')\n",
    "X_test = pd.read_csv('D:\\\\Pedro\\\\FIUBA\\\\Inteligencias Artificial\\\\X_test_con_UMAP.csv', encoding = 'unicode_escape')\n",
    "\n",
    "y_train = pd.read_csv('D:\\\\Pedro\\\\FIUBA\\\\Inteligencias Artificial\\\\y_train.csv', encoding = 'unicode_escape').to_numpy().reshape(-1)\n",
    "y_test = pd.read_csv('D:\\\\Pedro\\\\FIUBA\\\\Inteligencias Artificial\\\\y_test.csv', encoding = 'unicode_escape').to_numpy().reshape(-1)"
   ]
  },
  {
   "cell_type": "code",
   "execution_count": 5,
   "id": "6553ac2a",
   "metadata": {},
   "outputs": [
    {
     "data": {
      "text/plain": [
       "(38312, 16422)"
      ]
     },
     "execution_count": 5,
     "metadata": {},
     "output_type": "execute_result"
    }
   ],
   "source": [
    "len(X_train), len(X_test)"
   ]
  },
  {
   "cell_type": "code",
   "execution_count": 6,
   "id": "f26766de",
   "metadata": {},
   "outputs": [],
   "source": [
    "from tensorflow.keras.models import Model, Sequential\n",
    "from tensorflow.keras.layers import Dense, Input"
   ]
  },
  {
   "cell_type": "code",
   "execution_count": 7,
   "id": "78b9e007",
   "metadata": {},
   "outputs": [],
   "source": [
    "from tensorflow.keras.optimizers import Adam"
   ]
  },
  {
   "cell_type": "code",
   "execution_count": 8,
   "id": "19711115",
   "metadata": {},
   "outputs": [],
   "source": [
    "from tensorflow.keras.callbacks import EarlyStopping"
   ]
  },
  {
   "cell_type": "code",
   "execution_count": 9,
   "id": "8e90ee60",
   "metadata": {},
   "outputs": [],
   "source": [
    "from tensorflow.keras.utils import set_random_seed"
   ]
  },
  {
   "cell_type": "code",
   "execution_count": 10,
   "id": "b0661951",
   "metadata": {},
   "outputs": [],
   "source": [
    "import tensorflow as tf"
   ]
  },
  {
   "cell_type": "code",
   "execution_count": 11,
   "id": "9f9593ab",
   "metadata": {},
   "outputs": [],
   "source": [
    "set_random_seed(10)"
   ]
  },
  {
   "cell_type": "code",
   "execution_count": 12,
   "id": "45a01f08",
   "metadata": {},
   "outputs": [
    {
     "name": "stdout",
     "output_type": "stream",
     "text": [
      "Model: \"sequential\"\n",
      "_________________________________________________________________\n",
      " Layer (type)                Output Shape              Param #   \n",
      "=================================================================\n",
      " dense (Dense)               (None, 1000)              29000     \n",
      "                                                                 \n",
      " dense_1 (Dense)             (None, 100)               100100    \n",
      "                                                                 \n",
      " dense_2 (Dense)             (None, 10)                1010      \n",
      "                                                                 \n",
      " dense_3 (Dense)             (None, 1)                 11        \n",
      "                                                                 \n",
      "=================================================================\n",
      "Total params: 130,121\n",
      "Trainable params: 130,121\n",
      "Non-trainable params: 0\n",
      "_________________________________________________________________\n"
     ]
    }
   ],
   "source": [
    "model = Sequential([\n",
    "    Dense(1000, activation=\"tanh\", input_shape=(28,)),\n",
    "    Dense(100, activation=\"tanh\"),\n",
    "    Dense(10, activation=\"tanh\"),\n",
    "    Dense(1, activation=\"sigmoid\")\n",
    "])\n",
    "model.summary()"
   ]
  },
  {
   "cell_type": "code",
   "execution_count": 13,
   "id": "f81182ba",
   "metadata": {},
   "outputs": [],
   "source": [
    "model.compile(loss=\"binary_crossentropy\", optimizer=Adam(learning_rate=0.0001), metrics=[tf.keras.metrics.Recall()])"
   ]
  },
  {
   "cell_type": "code",
   "execution_count": 14,
   "id": "e2b48ae3",
   "metadata": {},
   "outputs": [],
   "source": [
    "early_stopper = EarlyStopping(patience=15, restore_best_weights=True, monitor = \"val_loss\")"
   ]
  },
  {
   "cell_type": "code",
   "execution_count": 15,
   "id": "da2d2aa8",
   "metadata": {},
   "outputs": [
    {
     "name": "stdout",
     "output_type": "stream",
     "text": [
      "Epoch 1/100\n",
      "109/109 [==============================] - 6s 19ms/step - loss: 0.5683 - recall: 0.5725 - val_loss: 0.7536 - val_recall: 0.5505\n",
      "Epoch 2/100\n",
      "109/109 [==============================] - 1s 6ms/step - loss: 0.5352 - recall: 0.6159 - val_loss: 0.6743 - val_recall: 0.6168\n",
      "Epoch 3/100\n",
      "109/109 [==============================] - 1s 6ms/step - loss: 0.5270 - recall: 0.6320 - val_loss: 0.6837 - val_recall: 0.6144\n",
      "Epoch 4/100\n",
      "109/109 [==============================] - 1s 6ms/step - loss: 0.5176 - recall: 0.6378 - val_loss: 0.6852 - val_recall: 0.6236\n",
      "Epoch 5/100\n",
      "109/109 [==============================] - 1s 6ms/step - loss: 0.5097 - recall: 0.6567 - val_loss: 0.6853 - val_recall: 0.6449\n",
      "Epoch 6/100\n",
      "109/109 [==============================] - 1s 6ms/step - loss: 0.5049 - recall: 0.6675 - val_loss: 0.6344 - val_recall: 0.6814\n",
      "Epoch 7/100\n",
      "109/109 [==============================] - 1s 6ms/step - loss: 0.5011 - recall: 0.6759 - val_loss: 0.6479 - val_recall: 0.6770\n",
      "Epoch 8/100\n",
      "109/109 [==============================] - 1s 6ms/step - loss: 0.4981 - recall: 0.6825 - val_loss: 0.6736 - val_recall: 0.6572\n",
      "Epoch 9/100\n",
      "109/109 [==============================] - 1s 6ms/step - loss: 0.4960 - recall: 0.6834 - val_loss: 0.6254 - val_recall: 0.6983\n",
      "Epoch 10/100\n",
      "109/109 [==============================] - 1s 6ms/step - loss: 0.4941 - recall: 0.6887 - val_loss: 0.6283 - val_recall: 0.6988\n",
      "Epoch 11/100\n",
      "109/109 [==============================] - 1s 6ms/step - loss: 0.4923 - recall: 0.6928 - val_loss: 0.6420 - val_recall: 0.6861\n",
      "Epoch 12/100\n",
      "109/109 [==============================] - 1s 6ms/step - loss: 0.4914 - recall: 0.6958 - val_loss: 0.6337 - val_recall: 0.6943\n",
      "Epoch 13/100\n",
      "109/109 [==============================] - 1s 6ms/step - loss: 0.4902 - recall: 0.6977 - val_loss: 0.6415 - val_recall: 0.6901\n",
      "Epoch 14/100\n",
      "109/109 [==============================] - 1s 6ms/step - loss: 0.4892 - recall: 0.7007 - val_loss: 0.6208 - val_recall: 0.7052\n",
      "Epoch 15/100\n",
      "109/109 [==============================] - 1s 6ms/step - loss: 0.4885 - recall: 0.6998 - val_loss: 0.6397 - val_recall: 0.6887\n",
      "Epoch 16/100\n",
      "109/109 [==============================] - 1s 6ms/step - loss: 0.4879 - recall: 0.6989 - val_loss: 0.6194 - val_recall: 0.7087\n",
      "Epoch 17/100\n",
      "109/109 [==============================] - 1s 6ms/step - loss: 0.4869 - recall: 0.7056 - val_loss: 0.6417 - val_recall: 0.6875\n",
      "Epoch 18/100\n",
      "109/109 [==============================] - 1s 6ms/step - loss: 0.4865 - recall: 0.7049 - val_loss: 0.6250 - val_recall: 0.6983\n",
      "Epoch 19/100\n",
      "109/109 [==============================] - 1s 6ms/step - loss: 0.4856 - recall: 0.7068 - val_loss: 0.6176 - val_recall: 0.7052\n",
      "Epoch 20/100\n",
      "109/109 [==============================] - 1s 6ms/step - loss: 0.4852 - recall: 0.7100 - val_loss: 0.6185 - val_recall: 0.7068\n",
      "Epoch 21/100\n",
      "109/109 [==============================] - 1s 6ms/step - loss: 0.4844 - recall: 0.7106 - val_loss: 0.6351 - val_recall: 0.6944\n",
      "Epoch 22/100\n",
      "109/109 [==============================] - 1s 6ms/step - loss: 0.4841 - recall: 0.7082 - val_loss: 0.6218 - val_recall: 0.7000\n",
      "Epoch 23/100\n",
      "109/109 [==============================] - 1s 6ms/step - loss: 0.4836 - recall: 0.7112 - val_loss: 0.6191 - val_recall: 0.7059\n",
      "Epoch 24/100\n",
      "109/109 [==============================] - 1s 6ms/step - loss: 0.4828 - recall: 0.7088 - val_loss: 0.5814 - val_recall: 0.7343\n",
      "Epoch 25/100\n",
      "109/109 [==============================] - 1s 6ms/step - loss: 0.4824 - recall: 0.7135 - val_loss: 0.6219 - val_recall: 0.7070\n",
      "Epoch 26/100\n",
      "109/109 [==============================] - 1s 6ms/step - loss: 0.4821 - recall: 0.7127 - val_loss: 0.6468 - val_recall: 0.6894\n",
      "Epoch 27/100\n",
      "109/109 [==============================] - 1s 6ms/step - loss: 0.4820 - recall: 0.7147 - val_loss: 0.6352 - val_recall: 0.6950\n",
      "Epoch 28/100\n",
      "109/109 [==============================] - 1s 6ms/step - loss: 0.4815 - recall: 0.7144 - val_loss: 0.6348 - val_recall: 0.6938\n",
      "Epoch 29/100\n",
      "109/109 [==============================] - 1s 6ms/step - loss: 0.4810 - recall: 0.7121 - val_loss: 0.6147 - val_recall: 0.7122\n",
      "Epoch 30/100\n",
      "109/109 [==============================] - 1s 6ms/step - loss: 0.4808 - recall: 0.7148 - val_loss: 0.6197 - val_recall: 0.7066\n",
      "Epoch 31/100\n",
      "109/109 [==============================] - 1s 6ms/step - loss: 0.4802 - recall: 0.7151 - val_loss: 0.6176 - val_recall: 0.7084\n",
      "Epoch 32/100\n",
      "109/109 [==============================] - 1s 6ms/step - loss: 0.4800 - recall: 0.7181 - val_loss: 0.5937 - val_recall: 0.7252\n",
      "Epoch 33/100\n",
      "109/109 [==============================] - 1s 6ms/step - loss: 0.4799 - recall: 0.7170 - val_loss: 0.6289 - val_recall: 0.7025\n",
      "Epoch 34/100\n",
      "109/109 [==============================] - 1s 6ms/step - loss: 0.4794 - recall: 0.7200 - val_loss: 0.6169 - val_recall: 0.7091\n",
      "Epoch 35/100\n",
      "109/109 [==============================] - 1s 6ms/step - loss: 0.4792 - recall: 0.7167 - val_loss: 0.6420 - val_recall: 0.6917\n",
      "Epoch 36/100\n",
      "109/109 [==============================] - 1s 6ms/step - loss: 0.4788 - recall: 0.7215 - val_loss: 0.6244 - val_recall: 0.7052\n",
      "Epoch 37/100\n",
      "109/109 [==============================] - 1s 6ms/step - loss: 0.4787 - recall: 0.7192 - val_loss: 0.6496 - val_recall: 0.6910\n",
      "Epoch 38/100\n",
      "109/109 [==============================] - 1s 6ms/step - loss: 0.4784 - recall: 0.7204 - val_loss: 0.6363 - val_recall: 0.6974\n",
      "Epoch 39/100\n",
      "109/109 [==============================] - 1s 6ms/step - loss: 0.4780 - recall: 0.7200 - val_loss: 0.6129 - val_recall: 0.7143\n"
     ]
    },
    {
     "data": {
      "text/plain": [
       "<keras.callbacks.History at 0x146e459d7e0>"
      ]
     },
     "execution_count": 15,
     "metadata": {},
     "output_type": "execute_result"
    }
   ],
   "source": [
    "model.fit(X_train, \n",
    "          y_train, \n",
    "          epochs=100, \n",
    "          batch_size=300, \n",
    "          callbacks=[early_stopper],\n",
    "          validation_split=0.15)"
   ]
  },
  {
   "cell_type": "code",
   "execution_count": 16,
   "id": "f8cb971f",
   "metadata": {},
   "outputs": [
    {
     "name": "stdout",
     "output_type": "stream",
     "text": [
      "Model: \"sequential\"\n",
      "_________________________________________________________________\n",
      " Layer (type)                Output Shape              Param #   \n",
      "=================================================================\n",
      " dense (Dense)               (None, 1000)              29000     \n",
      "                                                                 \n",
      " dense_1 (Dense)             (None, 100)               100100    \n",
      "                                                                 \n",
      " dense_2 (Dense)             (None, 10)                1010      \n",
      "                                                                 \n",
      " dense_3 (Dense)             (None, 1)                 11        \n",
      "                                                                 \n",
      "=================================================================\n",
      "Total params: 130,121\n",
      "Trainable params: 130,121\n",
      "Non-trainable params: 0\n",
      "_________________________________________________________________\n"
     ]
    }
   ],
   "source": [
    "model_1 = Sequential([\n",
    "    Dense(1000, activation=\"relu\", input_shape=(28,)),\n",
    "    Dense(100, activation=\"relu\"),\n",
    "    Dense(10, activation=\"relu\"),\n",
    "    Dense(1, activation=\"sigmoid\")\n",
    "])\n",
    "model.summary()"
   ]
  },
  {
   "cell_type": "code",
   "execution_count": 17,
   "id": "7ac2f883",
   "metadata": {},
   "outputs": [],
   "source": [
    "model_1.compile(loss=\"binary_crossentropy\", optimizer=Adam(learning_rate=0.0001), metrics=[tf.keras.metrics.Recall()])"
   ]
  },
  {
   "cell_type": "code",
   "execution_count": 18,
   "id": "c741f7c9",
   "metadata": {},
   "outputs": [],
   "source": [
    "early_stopper = EarlyStopping(patience=15, restore_best_weights=True, monitor = \"val_loss\")"
   ]
  },
  {
   "cell_type": "code",
   "execution_count": 19,
   "id": "be5291f3",
   "metadata": {},
   "outputs": [
    {
     "name": "stdout",
     "output_type": "stream",
     "text": [
      "Epoch 1/100\n",
      "109/109 [==============================] - 2s 16ms/step - loss: 0.5871 - recall_1: 0.5003 - val_loss: 0.7586 - val_recall_1: 0.5624\n",
      "Epoch 2/100\n",
      "109/109 [==============================] - 1s 6ms/step - loss: 0.5287 - recall_1: 0.6362 - val_loss: 0.6472 - val_recall_1: 0.6610\n",
      "Epoch 3/100\n",
      "109/109 [==============================] - 1s 6ms/step - loss: 0.5125 - recall_1: 0.6608 - val_loss: 0.6745 - val_recall_1: 0.6334\n",
      "Epoch 4/100\n",
      "109/109 [==============================] - 1s 5ms/step - loss: 0.5030 - recall_1: 0.6673 - val_loss: 0.6545 - val_recall_1: 0.6603\n",
      "Epoch 5/100\n",
      "109/109 [==============================] - 1s 6ms/step - loss: 0.4956 - recall_1: 0.6795 - val_loss: 0.6782 - val_recall_1: 0.6506\n",
      "Epoch 6/100\n",
      "109/109 [==============================] - 1s 6ms/step - loss: 0.4908 - recall_1: 0.6892 - val_loss: 0.6102 - val_recall_1: 0.6997\n",
      "Epoch 7/100\n",
      "109/109 [==============================] - 1s 6ms/step - loss: 0.4868 - recall_1: 0.6983 - val_loss: 0.6164 - val_recall_1: 0.6957\n",
      "Epoch 8/100\n",
      "109/109 [==============================] - 1s 6ms/step - loss: 0.4838 - recall_1: 0.7026 - val_loss: 0.7005 - val_recall_1: 0.6410\n",
      "Epoch 9/100\n",
      "109/109 [==============================] - 1s 6ms/step - loss: 0.4811 - recall_1: 0.7064 - val_loss: 0.6488 - val_recall_1: 0.6798\n",
      "Epoch 10/100\n",
      "109/109 [==============================] - 1s 6ms/step - loss: 0.4785 - recall_1: 0.7120 - val_loss: 0.6054 - val_recall_1: 0.7112\n",
      "Epoch 11/100\n",
      "109/109 [==============================] - 1s 5ms/step - loss: 0.4767 - recall_1: 0.7159 - val_loss: 0.6216 - val_recall_1: 0.7080\n",
      "Epoch 12/100\n",
      "109/109 [==============================] - 1s 5ms/step - loss: 0.4755 - recall_1: 0.7182 - val_loss: 0.6285 - val_recall_1: 0.7023\n",
      "Epoch 13/100\n",
      "109/109 [==============================] - 1s 6ms/step - loss: 0.4739 - recall_1: 0.7218 - val_loss: 0.6209 - val_recall_1: 0.7082\n",
      "Epoch 14/100\n",
      "109/109 [==============================] - 1s 6ms/step - loss: 0.4728 - recall_1: 0.7236 - val_loss: 0.6402 - val_recall_1: 0.6976\n",
      "Epoch 15/100\n",
      "109/109 [==============================] - 1s 6ms/step - loss: 0.4717 - recall_1: 0.7215 - val_loss: 0.6613 - val_recall_1: 0.6824\n",
      "Epoch 16/100\n",
      "109/109 [==============================] - 1s 6ms/step - loss: 0.4706 - recall_1: 0.7242 - val_loss: 0.6053 - val_recall_1: 0.7216\n",
      "Epoch 17/100\n",
      "109/109 [==============================] - 1s 6ms/step - loss: 0.4703 - recall_1: 0.7270 - val_loss: 0.6440 - val_recall_1: 0.6965\n",
      "Epoch 18/100\n",
      "109/109 [==============================] - 1s 6ms/step - loss: 0.4684 - recall_1: 0.7263 - val_loss: 0.6168 - val_recall_1: 0.7127\n",
      "Epoch 19/100\n",
      "109/109 [==============================] - 1s 6ms/step - loss: 0.4678 - recall_1: 0.7270 - val_loss: 0.6049 - val_recall_1: 0.7204\n",
      "Epoch 20/100\n",
      "109/109 [==============================] - 1s 6ms/step - loss: 0.4666 - recall_1: 0.7299 - val_loss: 0.6489 - val_recall_1: 0.6906\n",
      "Epoch 21/100\n",
      "109/109 [==============================] - 1s 6ms/step - loss: 0.4653 - recall_1: 0.7329 - val_loss: 0.6850 - val_recall_1: 0.6696\n",
      "Epoch 22/100\n",
      "109/109 [==============================] - 1s 6ms/step - loss: 0.4649 - recall_1: 0.7270 - val_loss: 0.6427 - val_recall_1: 0.6934\n",
      "Epoch 23/100\n",
      "109/109 [==============================] - 1s 6ms/step - loss: 0.4639 - recall_1: 0.7320 - val_loss: 0.6392 - val_recall_1: 0.6971\n",
      "Epoch 24/100\n",
      "109/109 [==============================] - 1s 5ms/step - loss: 0.4627 - recall_1: 0.7316 - val_loss: 0.6055 - val_recall_1: 0.7150\n",
      "Epoch 25/100\n",
      "109/109 [==============================] - 1s 5ms/step - loss: 0.4620 - recall_1: 0.7332 - val_loss: 0.6145 - val_recall_1: 0.7125\n",
      "Epoch 26/100\n",
      "109/109 [==============================] - 1s 6ms/step - loss: 0.4611 - recall_1: 0.7337 - val_loss: 0.6241 - val_recall_1: 0.7124\n",
      "Epoch 27/100\n",
      "109/109 [==============================] - 1s 6ms/step - loss: 0.4607 - recall_1: 0.7368 - val_loss: 0.6370 - val_recall_1: 0.7018\n",
      "Epoch 28/100\n",
      "109/109 [==============================] - 1s 6ms/step - loss: 0.4593 - recall_1: 0.7351 - val_loss: 0.6375 - val_recall_1: 0.7021\n",
      "Epoch 29/100\n",
      "109/109 [==============================] - 1s 6ms/step - loss: 0.4588 - recall_1: 0.7384 - val_loss: 0.6376 - val_recall_1: 0.7047\n",
      "Epoch 30/100\n",
      "109/109 [==============================] - 1s 6ms/step - loss: 0.4578 - recall_1: 0.7350 - val_loss: 0.6788 - val_recall_1: 0.6805\n",
      "Epoch 31/100\n",
      "109/109 [==============================] - 1s 6ms/step - loss: 0.4567 - recall_1: 0.7358 - val_loss: 0.6386 - val_recall_1: 0.7051\n",
      "Epoch 32/100\n",
      "109/109 [==============================] - 1s 6ms/step - loss: 0.4563 - recall_1: 0.7358 - val_loss: 0.6113 - val_recall_1: 0.7179\n",
      "Epoch 33/100\n",
      "109/109 [==============================] - 1s 6ms/step - loss: 0.4551 - recall_1: 0.7388 - val_loss: 0.5645 - val_recall_1: 0.7494\n",
      "Epoch 34/100\n",
      "109/109 [==============================] - 1s 6ms/step - loss: 0.4544 - recall_1: 0.7436 - val_loss: 0.7122 - val_recall_1: 0.6516\n",
      "Epoch 35/100\n",
      "109/109 [==============================] - 1s 6ms/step - loss: 0.4535 - recall_1: 0.7378 - val_loss: 0.5811 - val_recall_1: 0.7390\n",
      "Epoch 36/100\n",
      "109/109 [==============================] - 1s 6ms/step - loss: 0.4524 - recall_1: 0.7408 - val_loss: 0.5984 - val_recall_1: 0.7296\n",
      "Epoch 37/100\n",
      "109/109 [==============================] - 1s 6ms/step - loss: 0.4519 - recall_1: 0.7413 - val_loss: 0.6278 - val_recall_1: 0.7070\n",
      "Epoch 38/100\n",
      "109/109 [==============================] - 1s 6ms/step - loss: 0.4508 - recall_1: 0.7429 - val_loss: 0.6553 - val_recall_1: 0.6943\n",
      "Epoch 39/100\n",
      "109/109 [==============================] - 1s 6ms/step - loss: 0.4500 - recall_1: 0.7408 - val_loss: 0.5643 - val_recall_1: 0.7468\n",
      "Epoch 40/100\n",
      "109/109 [==============================] - 1s 6ms/step - loss: 0.4492 - recall_1: 0.7426 - val_loss: 0.5675 - val_recall_1: 0.7512\n",
      "Epoch 41/100\n",
      "109/109 [==============================] - 1s 5ms/step - loss: 0.4483 - recall_1: 0.7459 - val_loss: 0.5802 - val_recall_1: 0.7383\n",
      "Epoch 42/100\n",
      "109/109 [==============================] - 1s 5ms/step - loss: 0.4476 - recall_1: 0.7452 - val_loss: 0.5983 - val_recall_1: 0.7324\n",
      "Epoch 43/100\n",
      "109/109 [==============================] - 1s 5ms/step - loss: 0.4464 - recall_1: 0.7446 - val_loss: 0.6442 - val_recall_1: 0.7056\n",
      "Epoch 44/100\n",
      "109/109 [==============================] - 1s 6ms/step - loss: 0.4456 - recall_1: 0.7439 - val_loss: 0.5979 - val_recall_1: 0.7286\n",
      "Epoch 45/100\n",
      "109/109 [==============================] - 1s 6ms/step - loss: 0.4442 - recall_1: 0.7487 - val_loss: 0.6122 - val_recall_1: 0.7199\n",
      "Epoch 46/100\n",
      "109/109 [==============================] - 1s 6ms/step - loss: 0.4436 - recall_1: 0.7462 - val_loss: 0.5943 - val_recall_1: 0.7301\n",
      "Epoch 47/100\n",
      "109/109 [==============================] - 1s 6ms/step - loss: 0.4429 - recall_1: 0.7498 - val_loss: 0.6233 - val_recall_1: 0.7124\n",
      "Epoch 48/100\n",
      "109/109 [==============================] - 1s 6ms/step - loss: 0.4416 - recall_1: 0.7476 - val_loss: 0.6825 - val_recall_1: 0.6744\n",
      "Epoch 49/100\n",
      "109/109 [==============================] - 1s 6ms/step - loss: 0.4404 - recall_1: 0.7505 - val_loss: 0.5781 - val_recall_1: 0.7393\n",
      "Epoch 50/100\n",
      "109/109 [==============================] - 1s 6ms/step - loss: 0.4401 - recall_1: 0.7517 - val_loss: 0.6474 - val_recall_1: 0.6971\n",
      "Epoch 51/100\n",
      "109/109 [==============================] - 1s 6ms/step - loss: 0.4382 - recall_1: 0.7501 - val_loss: 0.6223 - val_recall_1: 0.7120\n",
      "Epoch 52/100\n",
      "109/109 [==============================] - 1s 6ms/step - loss: 0.4369 - recall_1: 0.7565 - val_loss: 0.7038 - val_recall_1: 0.6590\n",
      "Epoch 53/100\n",
      "109/109 [==============================] - 1s 6ms/step - loss: 0.4368 - recall_1: 0.7514 - val_loss: 0.6127 - val_recall_1: 0.7202\n",
      "Epoch 54/100\n",
      "109/109 [==============================] - 1s 6ms/step - loss: 0.4358 - recall_1: 0.7579 - val_loss: 0.6039 - val_recall_1: 0.7239\n"
     ]
    },
    {
     "data": {
      "text/plain": [
       "<keras.callbacks.History at 0x146e48b7fd0>"
      ]
     },
     "execution_count": 19,
     "metadata": {},
     "output_type": "execute_result"
    }
   ],
   "source": [
    "model_1.fit(X_train, \n",
    "          y_train, \n",
    "          epochs=100, \n",
    "          batch_size=300, \n",
    "          callbacks=[early_stopper],\n",
    "          validation_split=0.15)"
   ]
  },
  {
   "cell_type": "code",
   "execution_count": 22,
   "id": "54db0c86",
   "metadata": {},
   "outputs": [
    {
     "name": "stdout",
     "output_type": "stream",
     "text": [
      "514/514 [==============================] - 1s 2ms/step\n"
     ]
    }
   ],
   "source": [
    "preds = model.predict(X_test)"
   ]
  },
  {
   "cell_type": "code",
   "execution_count": 23,
   "id": "673d002b",
   "metadata": {},
   "outputs": [
    {
     "name": "stdout",
     "output_type": "stream",
     "text": [
      "514/514 [==============================] - 1s 2ms/step\n"
     ]
    }
   ],
   "source": [
    "preds_1 = model_1.predict(X_test)"
   ]
  },
  {
   "cell_type": "code",
   "execution_count": 24,
   "id": "1611715c",
   "metadata": {},
   "outputs": [],
   "source": [
    "from sklearn.metrics import recall_score, accuracy_score, confusion_matrix, ConfusionMatrixDisplay"
   ]
  },
  {
   "cell_type": "code",
   "execution_count": 25,
   "id": "7dc1b79c",
   "metadata": {},
   "outputs": [],
   "source": [
    "def treshold_05(x):\n",
    "  if x > 0.5:\n",
    "    return 1\n",
    "  return 0"
   ]
  },
  {
   "cell_type": "code",
   "execution_count": 26,
   "id": "3b75385a",
   "metadata": {},
   "outputs": [],
   "source": [
    "preds_05 = np.vectorize(treshold_05)(preds)\n",
    "preds_1_05 = np.vectorize(treshold_05)(preds_1)"
   ]
  },
  {
   "cell_type": "code",
   "execution_count": 27,
   "id": "596d4958",
   "metadata": {},
   "outputs": [
    {
     "data": {
      "text/plain": [
       "0.7354767994154183"
      ]
     },
     "execution_count": 27,
     "metadata": {},
     "output_type": "execute_result"
    }
   ],
   "source": [
    "recall_score(y_test, preds_05)"
   ]
  },
  {
   "cell_type": "code",
   "execution_count": 28,
   "id": "e8de4f9b",
   "metadata": {},
   "outputs": [
    {
     "data": {
      "text/plain": [
       "0.7604433077578857"
      ]
     },
     "execution_count": 28,
     "metadata": {},
     "output_type": "execute_result"
    }
   ],
   "source": [
    "accuracy_score(y_test, preds_05)"
   ]
  },
  {
   "cell_type": "code",
   "execution_count": 29,
   "id": "abfbf026",
   "metadata": {},
   "outputs": [
    {
     "data": {
      "text/plain": [
       "0.7444890999878212"
      ]
     },
     "execution_count": 29,
     "metadata": {},
     "output_type": "execute_result"
    }
   ],
   "source": [
    "recall_score(y_test, preds_1_05)"
   ]
  },
  {
   "cell_type": "code",
   "execution_count": 30,
   "id": "61d39c7a",
   "metadata": {},
   "outputs": [
    {
     "data": {
      "text/plain": [
       "0.7576421873097064"
      ]
     },
     "execution_count": 30,
     "metadata": {},
     "output_type": "execute_result"
    }
   ],
   "source": [
    "accuracy_score(y_test, preds_1_05)"
   ]
  },
  {
   "cell_type": "code",
   "execution_count": 31,
   "id": "6ed17dae",
   "metadata": {},
   "outputs": [],
   "source": [
    "cm_05 = confusion_matrix(y_test, preds_05)"
   ]
  },
  {
   "cell_type": "code",
   "execution_count": 32,
   "id": "46e734f2",
   "metadata": {},
   "outputs": [],
   "source": [
    "cm_1_05 = confusion_matrix(y_test, preds_1_05)"
   ]
  },
  {
   "cell_type": "code",
   "execution_count": 33,
   "id": "0fd62b2f",
   "metadata": {},
   "outputs": [
    {
     "data": {
      "text/plain": [
       "<sklearn.metrics._plot.confusion_matrix.ConfusionMatrixDisplay at 0x146e5952b30>"
      ]
     },
     "execution_count": 33,
     "metadata": {},
     "output_type": "execute_result"
    },
    {
     "data": {
      "image/png": "[encoded data removed]",
      "text/plain": [
       "<Figure size 640x480 with 2 Axes>"
      ]
     },
     "metadata": {},
     "output_type": "display_data"
    }
   ],
   "source": [
    "disp = ConfusionMatrixDisplay(confusion_matrix=cm_05)\n",
    "disp.plot()"
   ]
  },
  {
   "cell_type": "code",
   "execution_count": 34,
   "id": "e27e45e9",
   "metadata": {},
   "outputs": [
    {
     "data": {
      "text/plain": [
       "<sklearn.metrics._plot.confusion_matrix.ConfusionMatrixDisplay at 0x146e5421c00>"
      ]
     },
     "execution_count": 34,
     "metadata": {},
     "output_type": "execute_result"
    },
    {
     "data": {
      "image/png": "[encoded data removed]",
      "text/plain": [
       "<Figure size 640x480 with 2 Axes>"
      ]
     },
     "metadata": {},
     "output_type": "display_data"
    }
   ],
   "source": [
    "disp = ConfusionMatrixDisplay(confusion_matrix=cm_1_05)\n",
    "disp.plot()"
   ]
  },
  {
   "cell_type": "code",
   "execution_count": 35,
   "id": "b9b5b008",
   "metadata": {},
   "outputs": [],
   "source": [
    "def treshold_03(x):\n",
    "  if x > 0.3:\n",
    "    return 1\n",
    "  return 0"
   ]
  },
  {
   "cell_type": "code",
   "execution_count": 36,
   "id": "842b5f45",
   "metadata": {},
   "outputs": [],
   "source": [
    "preds_03 = np.vectorize(treshold_03)(preds)\n",
    "preds_1_03 = np.vectorize(treshold_03)(preds_1)"
   ]
  },
  {
   "cell_type": "code",
   "execution_count": 37,
   "id": "5a2174de",
   "metadata": {},
   "outputs": [
    {
     "data": {
      "text/plain": [
       "0.897211058336378"
      ]
     },
     "execution_count": 37,
     "metadata": {},
     "output_type": "execute_result"
    }
   ],
   "source": [
    "recall_score(y_test, preds_03)"
   ]
  },
  {
   "cell_type": "code",
   "execution_count": 38,
   "id": "2874f75d",
   "metadata": {},
   "outputs": [
    {
     "data": {
      "text/plain": [
       "0.7510047497259773"
      ]
     },
     "execution_count": 38,
     "metadata": {},
     "output_type": "execute_result"
    }
   ],
   "source": [
    "accuracy_score(y_test, preds_03)"
   ]
  },
  {
   "cell_type": "code",
   "execution_count": 39,
   "id": "9d5043f0",
   "metadata": {},
   "outputs": [
    {
     "data": {
      "text/plain": [
       "0.8811350627207405"
      ]
     },
     "execution_count": 39,
     "metadata": {},
     "output_type": "execute_result"
    }
   ],
   "source": [
    "recall_score(y_test, preds_1_03)"
   ]
  },
  {
   "cell_type": "code",
   "execution_count": 40,
   "id": "44f4a608",
   "metadata": {},
   "outputs": [
    {
     "data": {
      "text/plain": [
       "0.7570332480818415"
      ]
     },
     "execution_count": 40,
     "metadata": {},
     "output_type": "execute_result"
    }
   ],
   "source": [
    "accuracy_score(y_test, preds_1_03)"
   ]
  },
  {
   "cell_type": "code",
   "execution_count": 41,
   "id": "bd88647f",
   "metadata": {},
   "outputs": [],
   "source": [
    "cm_03 = confusion_matrix(y_test, preds_03)"
   ]
  },
  {
   "cell_type": "code",
   "execution_count": 42,
   "id": "cecf16c2",
   "metadata": {},
   "outputs": [],
   "source": [
    "cm_1_03 = confusion_matrix(y_test, preds_1_03)"
   ]
  },
  {
   "cell_type": "code",
   "execution_count": 43,
   "id": "6a936fd7",
   "metadata": {},
   "outputs": [
    {
     "data": {
      "text/plain": [
       "<sklearn.metrics._plot.confusion_matrix.ConfusionMatrixDisplay at 0x146e5b233a0>"
      ]
     },
     "execution_count": 43,
     "metadata": {},
     "output_type": "execute_result"
    },
    {
     "data": {
      "image/png": "[encoded data removed]",
      "text/plain": [
       "<Figure size 640x480 with 2 Axes>"
      ]
     },
     "metadata": {},
     "output_type": "display_data"
    }
   ],
   "source": [
    "disp = ConfusionMatrixDisplay(confusion_matrix=cm_03)\n",
    "disp.plot()"
   ]
  },
  {
   "cell_type": "code",
   "execution_count": 44,
   "id": "a1a76a07",
   "metadata": {},
   "outputs": [
    {
     "data": {
      "text/plain": [
       "<sklearn.metrics._plot.confusion_matrix.ConfusionMatrixDisplay at 0x146e75775e0>"
      ]
     },
     "execution_count": 44,
     "metadata": {},
     "output_type": "execute_result"
    },
    {
     "data": {
      "image/png": "[encoded data removed]",
      "text/plain": [
       "<Figure size 640x480 with 2 Axes>"
      ]
     },
     "metadata": {},
     "output_type": "display_data"
    }
   ],
   "source": [
    "disp = ConfusionMatrixDisplay(confusion_matrix=cm_1_03)\n",
    "disp.plot()"
   ]
  }
 ],
 "metadata": {
  "kernelspec": {
   "display_name": "Python 3 (ipykernel)",
   "language": "python",
   "name": "python3"
  },
  "language_info": {
   "codemirror_mode": {
    "name": "ipython",
    "version": 3
   },
   "file_extension": ".py",
   "mimetype": "text/x-python",
   "name": "python",
   "nbconvert_exporter": "python",
   "pygments_lexer": "ipython3",
   "version": "3.10.6"
  }
 },
 "nbformat": 4,
 "nbformat_minor": 5
}
