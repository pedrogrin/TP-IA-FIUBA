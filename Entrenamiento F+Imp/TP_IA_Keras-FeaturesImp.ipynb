{
 "cells": [
  {
   "cell_type": "code",
   "execution_count": 1,
   "id": "24457d57",
   "metadata": {},
   "outputs": [
    {
     "name": "stdout",
     "output_type": "stream",
     "text": [
      "Pandas Version: 1.5.3\n"
     ]
    }
   ],
   "source": [
    "import pandas as pd\n",
    "#Configuración de parametros de Pandas para mejor visualización\n",
    "pd.set_option('display.max_columns', None)\n",
    "pd.set_option('display.max_rows', None)\n",
    "pd.set_option('display.max_colwidth', None)\n",
    "pd.set_option('display.precision', 3)\n",
    "pd.set_option('plotting.backend', 'matplotlib') \n",
    "pd.options.mode.chained_assignment = None\n",
    "\n",
    "# En produccion eliminar, se incluye por informacion\n",
    "print(f'Pandas Version: {pd.__version__}') "
   ]
  },
  {
   "cell_type": "code",
   "execution_count": 2,
   "id": "3fba1fe1",
   "metadata": {},
   "outputs": [],
   "source": [
    "import matplotlib.pyplot as plt"
   ]
  },
  {
   "cell_type": "code",
   "execution_count": 3,
   "id": "07ef220c",
   "metadata": {},
   "outputs": [],
   "source": [
    "import numpy as np"
   ]
  },
  {
   "cell_type": "code",
   "execution_count": 4,
   "id": "b85a3b11",
   "metadata": {},
   "outputs": [],
   "source": [
    "X_train = pd.read_csv('/home/pedro/TpIAFiuba/Datos/X_train_con_escalado.csv', encoding = 'unicode_escape')\n",
    "X_test = pd.read_csv('/home/pedro/TpIAFiuba/Datos/X_test_con_escalado.csv', encoding = 'unicode_escape')\n",
    "\n",
    "y_train = pd.read_csv('/home/pedro/TpIAFiuba/Datos/y_train.csv', encoding = 'unicode_escape').to_numpy().reshape(-1)\n",
    "y_test = pd.read_csv('/home/pedro/TpIAFiuba/Datos/y_test.csv', encoding = 'unicode_escape').to_numpy().reshape(-1)"
   ]
  },
  {
   "cell_type": "code",
   "execution_count": 5,
   "id": "cf0d6127",
   "metadata": {},
   "outputs": [],
   "source": [
    "X_train = X_train[[\"DiffWalking\", \"BMI\", \"PhysicalHealth\", \"Diabetic\", \"SleepTime\"]]\n",
    "X_test = X_test[[\"DiffWalking\", \"BMI\", \"PhysicalHealth\", \"Diabetic\", \"SleepTime\"]]"
   ]
  },
  {
   "cell_type": "code",
   "execution_count": 6,
   "id": "6553ac2a",
   "metadata": {},
   "outputs": [
    {
     "data": {
      "text/plain": [
       "(38312, 16422)"
      ]
     },
     "execution_count": 6,
     "metadata": {},
     "output_type": "execute_result"
    }
   ],
   "source": [
    "len(X_train), len(X_test)"
   ]
  },
  {
   "cell_type": "code",
   "execution_count": 7,
   "id": "f26766de",
   "metadata": {},
   "outputs": [
    {
     "name": "stderr",
     "output_type": "stream",
     "text": [
      "2023-07-08 13:08:54.193765: I tensorflow/tsl/cuda/cudart_stub.cc:28] Could not find cuda drivers on your machine, GPU will not be used.\n",
      "2023-07-08 13:08:54.246653: I tensorflow/tsl/cuda/cudart_stub.cc:28] Could not find cuda drivers on your machine, GPU will not be used.\n",
      "2023-07-08 13:08:54.247175: I tensorflow/core/platform/cpu_feature_guard.cc:182] This TensorFlow binary is optimized to use available CPU instructions in performance-critical operations.\n",
      "To enable the following instructions: AVX2 FMA, in other operations, rebuild TensorFlow with the appropriate compiler flags.\n",
      "2023-07-08 13:08:55.280646: W tensorflow/compiler/tf2tensorrt/utils/py_utils.cc:38] TF-TRT Warning: Could not find TensorRT\n"
     ]
    }
   ],
   "source": [
    "from tensorflow.keras.models import Model, Sequential\n",
    "from tensorflow.keras.layers import Dense, Input"
   ]
  },
  {
   "cell_type": "code",
   "execution_count": 8,
   "id": "78b9e007",
   "metadata": {},
   "outputs": [],
   "source": [
    "from tensorflow.keras.optimizers import Adam"
   ]
  },
  {
   "cell_type": "code",
   "execution_count": 9,
   "id": "19711115",
   "metadata": {},
   "outputs": [],
   "source": [
    "from tensorflow.keras.callbacks import EarlyStopping"
   ]
  },
  {
   "cell_type": "code",
   "execution_count": 10,
   "id": "8e90ee60",
   "metadata": {},
   "outputs": [],
   "source": [
    "from tensorflow.keras.utils import set_random_seed"
   ]
  },
  {
   "cell_type": "code",
   "execution_count": 11,
   "id": "b0661951",
   "metadata": {},
   "outputs": [],
   "source": [
    "import tensorflow as tf"
   ]
  },
  {
   "cell_type": "code",
   "execution_count": 12,
   "id": "9f9593ab",
   "metadata": {},
   "outputs": [],
   "source": [
    "set_random_seed(10)"
   ]
  },
  {
   "cell_type": "code",
   "execution_count": 13,
   "id": "45a01f08",
   "metadata": {},
   "outputs": [
    {
     "name": "stdout",
     "output_type": "stream",
     "text": [
      "Model: \"sequential\"\n",
      "_________________________________________________________________\n",
      " Layer (type)                Output Shape              Param #   \n",
      "=================================================================\n",
      " dense (Dense)               (None, 1000)              6000      \n",
      "                                                                 \n",
      " dense_1 (Dense)             (None, 100)               100100    \n",
      "                                                                 \n",
      " dense_2 (Dense)             (None, 10)                1010      \n",
      "                                                                 \n",
      " dense_3 (Dense)             (None, 1)                 11        \n",
      "                                                                 \n",
      "=================================================================\n",
      "Total params: 107121 (418.44 KB)\n",
      "Trainable params: 107121 (418.44 KB)\n",
      "Non-trainable params: 0 (0.00 Byte)\n",
      "_________________________________________________________________\n"
     ]
    }
   ],
   "source": [
    "model = Sequential([\n",
    "    Dense(1000, activation=\"tanh\", input_shape=(5,)),\n",
    "    Dense(100, activation=\"tanh\"),\n",
    "    Dense(10, activation=\"tanh\"),\n",
    "    Dense(1, activation=\"sigmoid\")\n",
    "])\n",
    "model.summary()"
   ]
  },
  {
   "cell_type": "code",
   "execution_count": 14,
   "id": "f81182ba",
   "metadata": {},
   "outputs": [],
   "source": [
    "model.compile(loss=\"binary_crossentropy\", optimizer=Adam(learning_rate=0.0001), metrics=[tf.keras.metrics.Recall()])"
   ]
  },
  {
   "cell_type": "code",
   "execution_count": 15,
   "id": "e2b48ae3",
   "metadata": {},
   "outputs": [],
   "source": [
    "early_stopper = EarlyStopping(patience=15, restore_best_weights=True, monitor = \"val_loss\")"
   ]
  },
  {
   "cell_type": "code",
   "execution_count": 16,
   "id": "da2d2aa8",
   "metadata": {},
   "outputs": [
    {
     "name": "stdout",
     "output_type": "stream",
     "text": [
      "Epoch 1/100\n",
      "109/109 [==============================] - 2s 11ms/step - loss: 0.6218 - recall: 0.5269 - val_loss: 0.7770 - val_recall: 0.5502\n",
      "Epoch 2/100\n",
      "109/109 [==============================] - 1s 8ms/step - loss: 0.6045 - recall: 0.5725 - val_loss: 0.8278 - val_recall: 0.5505\n",
      "Epoch 3/100\n",
      "109/109 [==============================] - 1s 9ms/step - loss: 0.6040 - recall: 0.5692 - val_loss: 0.7755 - val_recall: 0.5633\n",
      "Epoch 4/100\n",
      "109/109 [==============================] - 1s 8ms/step - loss: 0.6036 - recall: 0.5687 - val_loss: 0.8129 - val_recall: 0.5617\n",
      "Epoch 5/100\n",
      "109/109 [==============================] - 1s 8ms/step - loss: 0.6031 - recall: 0.5701 - val_loss: 0.8103 - val_recall: 0.5619\n",
      "Epoch 6/100\n",
      "109/109 [==============================] - 1s 8ms/step - loss: 0.6027 - recall: 0.5704 - val_loss: 0.8004 - val_recall: 0.5481\n",
      "Epoch 7/100\n",
      "109/109 [==============================] - 1s 10ms/step - loss: 0.6023 - recall: 0.5691 - val_loss: 0.7945 - val_recall: 0.5608\n",
      "Epoch 8/100\n",
      "109/109 [==============================] - 1s 10ms/step - loss: 0.6021 - recall: 0.5685 - val_loss: 0.7887 - val_recall: 0.5523\n",
      "Epoch 9/100\n",
      "109/109 [==============================] - 1s 9ms/step - loss: 0.6016 - recall: 0.5676 - val_loss: 0.7908 - val_recall: 0.5457\n",
      "Epoch 10/100\n",
      "109/109 [==============================] - 1s 8ms/step - loss: 0.6018 - recall: 0.5626 - val_loss: 0.7949 - val_recall: 0.5438\n",
      "Epoch 11/100\n",
      "109/109 [==============================] - 1s 8ms/step - loss: 0.6014 - recall: 0.5653 - val_loss: 0.8161 - val_recall: 0.5490\n",
      "Epoch 12/100\n",
      "109/109 [==============================] - 1s 8ms/step - loss: 0.6012 - recall: 0.5593 - val_loss: 0.8204 - val_recall: 0.5622\n",
      "Epoch 13/100\n",
      "109/109 [==============================] - 1s 8ms/step - loss: 0.6014 - recall: 0.5634 - val_loss: 0.8199 - val_recall: 0.5518\n",
      "Epoch 14/100\n",
      "109/109 [==============================] - 1s 8ms/step - loss: 0.6011 - recall: 0.5612 - val_loss: 0.7776 - val_recall: 0.5624\n",
      "Epoch 15/100\n",
      "109/109 [==============================] - 1s 8ms/step - loss: 0.6009 - recall: 0.5616 - val_loss: 0.8016 - val_recall: 0.5512\n",
      "Epoch 16/100\n",
      "109/109 [==============================] - 1s 8ms/step - loss: 0.6008 - recall: 0.5599 - val_loss: 0.8039 - val_recall: 0.5429\n",
      "Epoch 17/100\n",
      "109/109 [==============================] - 1s 8ms/step - loss: 0.6006 - recall: 0.5568 - val_loss: 0.7928 - val_recall: 0.5467\n",
      "Epoch 18/100\n",
      "109/109 [==============================] - 1s 8ms/step - loss: 0.6005 - recall: 0.5586 - val_loss: 0.8078 - val_recall: 0.5326\n"
     ]
    },
    {
     "data": {
      "text/plain": [
       "<keras.src.callbacks.History at 0x7fa64c2e4280>"
      ]
     },
     "execution_count": 16,
     "metadata": {},
     "output_type": "execute_result"
    }
   ],
   "source": [
    "model.fit(X_train, \n",
    "          y_train, \n",
    "          epochs=100, \n",
    "          batch_size=300, \n",
    "          callbacks=[early_stopper],\n",
    "          validation_split=0.15)"
   ]
  },
  {
   "cell_type": "code",
   "execution_count": 17,
   "id": "f8cb971f",
   "metadata": {},
   "outputs": [
    {
     "name": "stdout",
     "output_type": "stream",
     "text": [
      "Model: \"sequential\"\n",
      "_________________________________________________________________\n",
      " Layer (type)                Output Shape              Param #   \n",
      "=================================================================\n",
      " dense (Dense)               (None, 1000)              6000      \n",
      "                                                                 \n",
      " dense_1 (Dense)             (None, 100)               100100    \n",
      "                                                                 \n",
      " dense_2 (Dense)             (None, 10)                1010      \n",
      "                                                                 \n",
      " dense_3 (Dense)             (None, 1)                 11        \n",
      "                                                                 \n",
      "=================================================================\n",
      "Total params: 107121 (418.44 KB)\n",
      "Trainable params: 107121 (418.44 KB)\n",
      "Non-trainable params: 0 (0.00 Byte)\n",
      "_________________________________________________________________\n"
     ]
    }
   ],
   "source": [
    "model_1 = Sequential([\n",
    "    Dense(1000, activation=\"relu\", input_shape=(5,)),\n",
    "    Dense(100, activation=\"relu\"),\n",
    "    Dense(10, activation=\"relu\"),\n",
    "    Dense(1, activation=\"sigmoid\")\n",
    "])\n",
    "model.summary()"
   ]
  },
  {
   "cell_type": "code",
   "execution_count": 18,
   "id": "7ac2f883",
   "metadata": {},
   "outputs": [],
   "source": [
    "model_1.compile(loss=\"binary_crossentropy\", optimizer=Adam(learning_rate=0.0001), metrics=[tf.keras.metrics.Recall()])"
   ]
  },
  {
   "cell_type": "code",
   "execution_count": 19,
   "id": "c741f7c9",
   "metadata": {},
   "outputs": [],
   "source": [
    "early_stopper = EarlyStopping(patience=15, restore_best_weights=True, monitor = \"val_loss\")"
   ]
  },
  {
   "cell_type": "code",
   "execution_count": 20,
   "id": "be5291f3",
   "metadata": {},
   "outputs": [
    {
     "name": "stdout",
     "output_type": "stream",
     "text": [
      "Epoch 1/100\n",
      "109/109 [==============================] - 2s 10ms/step - loss: 0.6357 - recall_1: 0.4258 - val_loss: 0.7895 - val_recall_1: 0.5213\n",
      "Epoch 2/100\n",
      "109/109 [==============================] - 1s 7ms/step - loss: 0.6026 - recall_1: 0.5491 - val_loss: 0.8202 - val_recall_1: 0.5182\n",
      "Epoch 3/100\n",
      "109/109 [==============================] - 1s 8ms/step - loss: 0.6007 - recall_1: 0.5587 - val_loss: 0.7756 - val_recall_1: 0.5314\n",
      "Epoch 4/100\n",
      "109/109 [==============================] - 1s 7ms/step - loss: 0.6004 - recall_1: 0.5507 - val_loss: 0.8178 - val_recall_1: 0.5152\n",
      "Epoch 5/100\n",
      "109/109 [==============================] - 1s 8ms/step - loss: 0.5999 - recall_1: 0.5485 - val_loss: 0.8168 - val_recall_1: 0.5293\n",
      "Epoch 6/100\n",
      "109/109 [==============================] - 1s 7ms/step - loss: 0.5998 - recall_1: 0.5559 - val_loss: 0.7895 - val_recall_1: 0.5418\n",
      "Epoch 7/100\n",
      "109/109 [==============================] - 1s 7ms/step - loss: 0.5996 - recall_1: 0.5533 - val_loss: 0.7685 - val_recall_1: 0.5450\n",
      "Epoch 8/100\n",
      "109/109 [==============================] - 1s 7ms/step - loss: 0.5993 - recall_1: 0.5530 - val_loss: 0.8054 - val_recall_1: 0.5462\n",
      "Epoch 9/100\n",
      "109/109 [==============================] - 1s 8ms/step - loss: 0.5991 - recall_1: 0.5561 - val_loss: 0.7900 - val_recall_1: 0.5418\n",
      "Epoch 10/100\n",
      "109/109 [==============================] - 1s 7ms/step - loss: 0.5991 - recall_1: 0.5566 - val_loss: 0.8030 - val_recall_1: 0.5363\n",
      "Epoch 11/100\n",
      "109/109 [==============================] - 1s 8ms/step - loss: 0.5991 - recall_1: 0.5533 - val_loss: 0.8078 - val_recall_1: 0.5387\n",
      "Epoch 12/100\n",
      "109/109 [==============================] - 1s 7ms/step - loss: 0.5992 - recall_1: 0.5517 - val_loss: 0.8244 - val_recall_1: 0.5431\n",
      "Epoch 13/100\n",
      "109/109 [==============================] - 1s 7ms/step - loss: 0.5990 - recall_1: 0.5563 - val_loss: 0.8170 - val_recall_1: 0.5389\n",
      "Epoch 14/100\n",
      "109/109 [==============================] - 1s 7ms/step - loss: 0.5989 - recall_1: 0.5544 - val_loss: 0.7782 - val_recall_1: 0.5547\n",
      "Epoch 15/100\n",
      "109/109 [==============================] - 1s 7ms/step - loss: 0.5988 - recall_1: 0.5594 - val_loss: 0.8176 - val_recall_1: 0.5290\n",
      "Epoch 16/100\n",
      "109/109 [==============================] - 1s 7ms/step - loss: 0.5988 - recall_1: 0.5534 - val_loss: 0.8105 - val_recall_1: 0.5354\n",
      "Epoch 17/100\n",
      "109/109 [==============================] - 1s 7ms/step - loss: 0.5987 - recall_1: 0.5567 - val_loss: 0.7903 - val_recall_1: 0.5462\n",
      "Epoch 18/100\n",
      "109/109 [==============================] - 1s 7ms/step - loss: 0.5985 - recall_1: 0.5581 - val_loss: 0.7999 - val_recall_1: 0.5363\n",
      "Epoch 19/100\n",
      "109/109 [==============================] - 1s 7ms/step - loss: 0.5986 - recall_1: 0.5555 - val_loss: 0.7974 - val_recall_1: 0.5464\n",
      "Epoch 20/100\n",
      "109/109 [==============================] - 1s 7ms/step - loss: 0.5985 - recall_1: 0.5557 - val_loss: 0.8003 - val_recall_1: 0.5418\n",
      "Epoch 21/100\n",
      "109/109 [==============================] - 1s 7ms/step - loss: 0.5984 - recall_1: 0.5540 - val_loss: 0.8094 - val_recall_1: 0.5455\n",
      "Epoch 22/100\n",
      "109/109 [==============================] - 1s 7ms/step - loss: 0.5987 - recall_1: 0.5556 - val_loss: 0.7929 - val_recall_1: 0.5439\n"
     ]
    },
    {
     "data": {
      "text/plain": [
       "<keras.src.callbacks.History at 0x7fa63d8ad510>"
      ]
     },
     "execution_count": 20,
     "metadata": {},
     "output_type": "execute_result"
    }
   ],
   "source": [
    "model_1.fit(X_train, \n",
    "          y_train, \n",
    "          epochs=100, \n",
    "          batch_size=300, \n",
    "          callbacks=[early_stopper],\n",
    "          validation_split=0.15)"
   ]
  },
  {
   "cell_type": "code",
   "execution_count": 21,
   "id": "54db0c86",
   "metadata": {},
   "outputs": [
    {
     "name": "stdout",
     "output_type": "stream",
     "text": [
      "514/514 [==============================] - 1s 2ms/step\n"
     ]
    }
   ],
   "source": [
    "preds = model.predict(X_test)"
   ]
  },
  {
   "cell_type": "code",
   "execution_count": 22,
   "id": "673d002b",
   "metadata": {},
   "outputs": [
    {
     "name": "stdout",
     "output_type": "stream",
     "text": [
      "514/514 [==============================] - 1s 2ms/step\n"
     ]
    }
   ],
   "source": [
    "preds_1 = model_1.predict(X_test)"
   ]
  },
  {
   "cell_type": "code",
   "execution_count": 23,
   "id": "1611715c",
   "metadata": {},
   "outputs": [],
   "source": [
    "from sklearn.metrics import recall_score, accuracy_score, confusion_matrix, ConfusionMatrixDisplay"
   ]
  },
  {
   "cell_type": "code",
   "execution_count": 24,
   "id": "7dc1b79c",
   "metadata": {},
   "outputs": [],
   "source": [
    "def treshold_05(x):\n",
    "  if x > 0.5:\n",
    "    return 1\n",
    "  return 0"
   ]
  },
  {
   "cell_type": "code",
   "execution_count": 25,
   "id": "3b75385a",
   "metadata": {},
   "outputs": [],
   "source": [
    "preds_05 = np.vectorize(treshold_05)(preds)\n",
    "preds_1_05 = np.vectorize(treshold_05)(preds_1)"
   ]
  },
  {
   "cell_type": "code",
   "execution_count": 26,
   "id": "596d4958",
   "metadata": {},
   "outputs": [
    {
     "data": {
      "text/plain": [
       "0.566557057605651"
      ]
     },
     "execution_count": 26,
     "metadata": {},
     "output_type": "execute_result"
    }
   ],
   "source": [
    "recall_score(y_test, preds_05)"
   ]
  },
  {
   "cell_type": "code",
   "execution_count": 27,
   "id": "e8de4f9b",
   "metadata": {},
   "outputs": [
    {
     "data": {
      "text/plain": [
       "0.6728778467908902"
      ]
     },
     "execution_count": 27,
     "metadata": {},
     "output_type": "execute_result"
    }
   ],
   "source": [
    "accuracy_score(y_test, preds_05)"
   ]
  },
  {
   "cell_type": "code",
   "execution_count": 28,
   "id": "abfbf026",
   "metadata": {},
   "outputs": [
    {
     "data": {
      "text/plain": [
       "0.54670563877725"
      ]
     },
     "execution_count": 28,
     "metadata": {},
     "output_type": "execute_result"
    }
   ],
   "source": [
    "recall_score(y_test, preds_1_05)"
   ]
  },
  {
   "cell_type": "code",
   "execution_count": 29,
   "id": "61d39c7a",
   "metadata": {},
   "outputs": [
    {
     "data": {
      "text/plain": [
       "0.6686761661186214"
      ]
     },
     "execution_count": 29,
     "metadata": {},
     "output_type": "execute_result"
    }
   ],
   "source": [
    "accuracy_score(y_test, preds_1_05)"
   ]
  },
  {
   "cell_type": "code",
   "execution_count": 30,
   "id": "af8ebb6b",
   "metadata": {},
   "outputs": [],
   "source": [
    "cm_05 = confusion_matrix(y_test, preds_05)"
   ]
  },
  {
   "cell_type": "code",
   "execution_count": 31,
   "id": "3c4cd067",
   "metadata": {},
   "outputs": [],
   "source": [
    "cm_1_05 = confusion_matrix(y_test, preds_1_05)"
   ]
  },
  {
   "cell_type": "code",
   "execution_count": 32,
   "id": "b093ef51",
   "metadata": {},
   "outputs": [
    {
     "data": {
      "text/plain": [
       "<sklearn.metrics._plot.confusion_matrix.ConfusionMatrixDisplay at 0x7fa61dbbc460>"
      ]
     },
     "execution_count": 32,
     "metadata": {},
     "output_type": "execute_result"
    },
    {
     "data": {
      "image/png": "[encoded data removed]",
      "text/plain": [
       "<Figure size 640x480 with 2 Axes>"
      ]
     },
     "metadata": {},
     "output_type": "display_data"
    }
   ],
   "source": [
    "disp = ConfusionMatrixDisplay(confusion_matrix=cm_05)\n",
    "disp.plot()"
   ]
  },
  {
   "cell_type": "code",
   "execution_count": 33,
   "id": "3b649f1d",
   "metadata": {},
   "outputs": [
    {
     "data": {
      "text/plain": [
       "<sklearn.metrics._plot.confusion_matrix.ConfusionMatrixDisplay at 0x7fa61da1a380>"
      ]
     },
     "execution_count": 33,
     "metadata": {},
     "output_type": "execute_result"
    },
    {
     "data": {
      "image/png": "[encoded data removed]",
      "text/plain": [
       "<Figure size 640x480 with 2 Axes>"
      ]
     },
     "metadata": {},
     "output_type": "display_data"
    }
   ],
   "source": [
    "disp = ConfusionMatrixDisplay(confusion_matrix=cm_1_05)\n",
    "disp.plot()"
   ]
  },
  {
   "cell_type": "code",
   "execution_count": 34,
   "id": "88a2cccc",
   "metadata": {},
   "outputs": [],
   "source": [
    "def treshold_03(x):\n",
    "  if x > 0.3:\n",
    "    return 1\n",
    "  return 0"
   ]
  },
  {
   "cell_type": "code",
   "execution_count": 35,
   "id": "4fded7ce",
   "metadata": {},
   "outputs": [],
   "source": [
    "preds_03 = np.vectorize(treshold_03)(preds)\n",
    "preds_1_03 = np.vectorize(treshold_03)(preds_1)"
   ]
  },
  {
   "cell_type": "code",
   "execution_count": 36,
   "id": "54ed7247",
   "metadata": {},
   "outputs": [
    {
     "data": {
      "text/plain": [
       "0.6460845207648277"
      ]
     },
     "execution_count": 36,
     "metadata": {},
     "output_type": "execute_result"
    }
   ],
   "source": [
    "recall_score(y_test, preds_03)"
   ]
  },
  {
   "cell_type": "code",
   "execution_count": 37,
   "id": "1304f715",
   "metadata": {},
   "outputs": [
    {
     "data": {
      "text/plain": [
       "0.6658750456704421"
      ]
     },
     "execution_count": 37,
     "metadata": {},
     "output_type": "execute_result"
    }
   ],
   "source": [
    "accuracy_score(y_test, preds_03)"
   ]
  },
  {
   "cell_type": "code",
   "execution_count": 38,
   "id": "8cf54b31",
   "metadata": {},
   "outputs": [
    {
     "data": {
      "text/plain": [
       "0.7801729387407137"
      ]
     },
     "execution_count": 38,
     "metadata": {},
     "output_type": "execute_result"
    }
   ],
   "source": [
    "recall_score(y_test, preds_1_03)"
   ]
  },
  {
   "cell_type": "code",
   "execution_count": 39,
   "id": "823e8345",
   "metadata": {},
   "outputs": [
    {
     "data": {
      "text/plain": [
       "0.6368286445012787"
      ]
     },
     "execution_count": 39,
     "metadata": {},
     "output_type": "execute_result"
    }
   ],
   "source": [
    "accuracy_score(y_test, preds_1_03)"
   ]
  },
  {
   "cell_type": "code",
   "execution_count": 40,
   "id": "563af08b",
   "metadata": {},
   "outputs": [],
   "source": [
    "cm_03 = confusion_matrix(y_test, preds_03)"
   ]
  },
  {
   "cell_type": "code",
   "execution_count": 41,
   "id": "f26d6f32",
   "metadata": {},
   "outputs": [],
   "source": [
    "cm_1_03 = confusion_matrix(y_test, preds_1_03)"
   ]
  },
  {
   "cell_type": "code",
   "execution_count": 42,
   "id": "8ef166e8",
   "metadata": {},
   "outputs": [
    {
     "data": {
      "text/plain": [
       "<sklearn.metrics._plot.confusion_matrix.ConfusionMatrixDisplay at 0x7fa61dbbcb80>"
      ]
     },
     "execution_count": 42,
     "metadata": {},
     "output_type": "execute_result"
    },
    {
     "data": {
      "image/png": "[encoded data removed]",
      "text/plain": [
       "<Figure size 640x480 with 2 Axes>"
      ]
     },
     "metadata": {},
     "output_type": "display_data"
    }
   ],
   "source": [
    "disp = ConfusionMatrixDisplay(confusion_matrix=cm_03)\n",
    "disp.plot()"
   ]
  },
  {
   "cell_type": "code",
   "execution_count": 43,
   "id": "45786028",
   "metadata": {},
   "outputs": [
    {
     "data": {
      "text/plain": [
       "<sklearn.metrics._plot.confusion_matrix.ConfusionMatrixDisplay at 0x7fa61d7deb60>"
      ]
     },
     "execution_count": 43,
     "metadata": {},
     "output_type": "execute_result"
    },
    {
     "data": {
      "image/png": "[encoded data removed]",
      "text/plain": [
       "<Figure size 640x480 with 2 Axes>"
      ]
     },
     "metadata": {},
     "output_type": "display_data"
    }
   ],
   "source": [
    "disp = ConfusionMatrixDisplay(confusion_matrix=cm_1_03)\n",
    "disp.plot()"
   ]
  }
 ],
 "metadata": {
  "kernelspec": {
   "display_name": "Python 3 (ipykernel)",
   "language": "python",
   "name": "python3"
  },
  "language_info": {
   "codemirror_mode": {
    "name": "ipython",
    "version": 3
   },
   "file_extension": ".py",
   "mimetype": "text/x-python",
   "name": "python",
   "nbconvert_exporter": "python",
   "pygments_lexer": "ipython3",
   "version": "3.10.6"
  }
 },
 "nbformat": 4,
 "nbformat_minor": 5
}
