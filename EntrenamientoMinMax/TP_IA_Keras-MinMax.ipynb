{
 "cells": [
  {
   "cell_type": "code",
   "execution_count": 1,
   "id": "24457d57",
   "metadata": {},
   "outputs": [
    {
     "name": "stdout",
     "output_type": "stream",
     "text": [
      "Pandas Version: 1.5.3\n"
     ]
    }
   ],
   "source": [
    "import pandas as pd\n",
    "#Configuración de parametros de Pandas para mejor visualización\n",
    "pd.set_option('display.max_columns', None)\n",
    "pd.set_option('display.max_rows', None)\n",
    "pd.set_option('display.max_colwidth', None)\n",
    "pd.set_option('display.precision', 3)\n",
    "pd.set_option('plotting.backend', 'matplotlib') \n",
    "pd.options.mode.chained_assignment = None\n",
    "\n",
    "# En produccion eliminar, se incluye por informacion\n",
    "print(f'Pandas Version: {pd.__version__}') "
   ]
  },
  {
   "cell_type": "code",
   "execution_count": 2,
   "id": "3fba1fe1",
   "metadata": {},
   "outputs": [],
   "source": [
    "import matplotlib.pyplot as plt"
   ]
  },
  {
   "cell_type": "code",
   "execution_count": 3,
   "id": "07ef220c",
   "metadata": {},
   "outputs": [],
   "source": [
    "import numpy as np"
   ]
  },
  {
   "cell_type": "code",
   "execution_count": 4,
   "id": "b85a3b11",
   "metadata": {},
   "outputs": [],
   "source": [
    "X_train = pd.read_csv('/home/pedro/TpIAFiuba/Datos/X_train.csv', encoding = 'unicode_escape')\n",
    "X_test = pd.read_csv('/home/pedro/TpIAFiuba/Datos/X_test.csv', encoding = 'unicode_escape')\n",
    "\n",
    "y_train = pd.read_csv('/home/pedro/TpIAFiuba/Datos/y_train.csv', encoding = 'unicode_escape').to_numpy().reshape(-1)\n",
    "y_test = pd.read_csv('/home/pedro/TpIAFiuba/Datos/y_test.csv', encoding = 'unicode_escape').to_numpy().reshape(-1)"
   ]
  },
  {
   "cell_type": "code",
   "execution_count": 5,
   "id": "34082d6c",
   "metadata": {},
   "outputs": [],
   "source": [
    "from sklearn.preprocessing import MinMaxScaler"
   ]
  },
  {
   "cell_type": "markdown",
   "id": "45cfe806",
   "metadata": {},
   "source": [
    "Escalado de 0 a 1 con:\n",
    "\n",
    "X_std = (X - X.min(axis=0)) / (X.max(axis=0) - X.min(axis=0))\n",
    "\n",
    "X_scaled = X_std * (max - min) + min"
   ]
  },
  {
   "cell_type": "code",
   "execution_count": 6,
   "id": "8413f5b2",
   "metadata": {},
   "outputs": [],
   "source": [
    "minMaxScaler = MinMaxScaler()\n",
    "features = ['BMI', 'SleepTime', 'PhysicalHealth', 'MentalHealth']\n",
    "\n",
    "x_a_escalar_train = X_train.loc[:,features].values\n",
    "x_a_escalar_train = minMaxScaler.fit_transform(x_a_escalar_train)\n",
    "x_train_data_escalada = pd.DataFrame(data = x_a_escalar_train, columns = features)\n",
    "X_train['BMI'] = x_train_data_escalada['BMI']\n",
    "X_train['SleepTime'] = x_train_data_escalada['SleepTime']\n",
    "X_train['PhysicalHealth'] = x_train_data_escalada['PhysicalHealth']\n",
    "X_train['MentalHealth'] = x_train_data_escalada['MentalHealth']\n",
    "\n",
    "x_a_escalar_test = X_test.loc[:,features].values\n",
    "x_a_escalar_test = minMaxScaler.transform(x_a_escalar_test)\n",
    "x_test_data_escalada = pd.DataFrame(data = x_a_escalar_test, columns = features)\n",
    "X_test['BMI'] = x_test_data_escalada['BMI']\n",
    "X_test['SleepTime'] = x_test_data_escalada['SleepTime']\n",
    "X_test['PhysicalHealth'] = x_test_data_escalada['PhysicalHealth']\n",
    "X_test['MentalHealth'] = x_test_data_escalada['MentalHealth']"
   ]
  },
  {
   "cell_type": "code",
   "execution_count": 7,
   "id": "6553ac2a",
   "metadata": {},
   "outputs": [
    {
     "data": {
      "text/plain": [
       "(38312, 16422)"
      ]
     },
     "execution_count": 7,
     "metadata": {},
     "output_type": "execute_result"
    }
   ],
   "source": [
    "len(X_train), len(X_test)"
   ]
  },
  {
   "cell_type": "code",
   "execution_count": 8,
   "id": "f26766de",
   "metadata": {},
   "outputs": [
    {
     "name": "stderr",
     "output_type": "stream",
     "text": [
      "2023-07-08 13:50:38.123777: I tensorflow/tsl/cuda/cudart_stub.cc:28] Could not find cuda drivers on your machine, GPU will not be used.\n",
      "2023-07-08 13:50:38.441915: I tensorflow/tsl/cuda/cudart_stub.cc:28] Could not find cuda drivers on your machine, GPU will not be used.\n",
      "2023-07-08 13:50:38.444380: I tensorflow/core/platform/cpu_feature_guard.cc:182] This TensorFlow binary is optimized to use available CPU instructions in performance-critical operations.\n",
      "To enable the following instructions: AVX2 FMA, in other operations, rebuild TensorFlow with the appropriate compiler flags.\n",
      "2023-07-08 13:50:40.160600: W tensorflow/compiler/tf2tensorrt/utils/py_utils.cc:38] TF-TRT Warning: Could not find TensorRT\n"
     ]
    }
   ],
   "source": [
    "from tensorflow.keras.models import Model, Sequential\n",
    "from tensorflow.keras.layers import Dense, Input"
   ]
  },
  {
   "cell_type": "code",
   "execution_count": 9,
   "id": "78b9e007",
   "metadata": {},
   "outputs": [],
   "source": [
    "from tensorflow.keras.optimizers import Adam"
   ]
  },
  {
   "cell_type": "code",
   "execution_count": 10,
   "id": "19711115",
   "metadata": {},
   "outputs": [],
   "source": [
    "from tensorflow.keras.callbacks import EarlyStopping"
   ]
  },
  {
   "cell_type": "code",
   "execution_count": 11,
   "id": "8e90ee60",
   "metadata": {},
   "outputs": [],
   "source": [
    "from tensorflow.keras.utils import set_random_seed"
   ]
  },
  {
   "cell_type": "code",
   "execution_count": 12,
   "id": "b0661951",
   "metadata": {},
   "outputs": [],
   "source": [
    "import tensorflow as tf"
   ]
  },
  {
   "cell_type": "code",
   "execution_count": 13,
   "id": "9f9593ab",
   "metadata": {},
   "outputs": [],
   "source": [
    "set_random_seed(10)"
   ]
  },
  {
   "cell_type": "code",
   "execution_count": 14,
   "id": "45a01f08",
   "metadata": {},
   "outputs": [
    {
     "name": "stdout",
     "output_type": "stream",
     "text": [
      "Model: \"sequential\"\n",
      "_________________________________________________________________\n",
      " Layer (type)                Output Shape              Param #   \n",
      "=================================================================\n",
      " dense (Dense)               (None, 1000)              26000     \n",
      "                                                                 \n",
      " dense_1 (Dense)             (None, 100)               100100    \n",
      "                                                                 \n",
      " dense_2 (Dense)             (None, 10)                1010      \n",
      "                                                                 \n",
      " dense_3 (Dense)             (None, 1)                 11        \n",
      "                                                                 \n",
      "=================================================================\n",
      "Total params: 127121 (496.57 KB)\n",
      "Trainable params: 127121 (496.57 KB)\n",
      "Non-trainable params: 0 (0.00 Byte)\n",
      "_________________________________________________________________\n"
     ]
    }
   ],
   "source": [
    "model = Sequential([\n",
    "    Dense(1000, activation=\"tanh\", input_shape=(25,)),\n",
    "    Dense(100, activation=\"tanh\"),\n",
    "    Dense(10, activation=\"tanh\"),\n",
    "    Dense(1, activation=\"sigmoid\")\n",
    "])\n",
    "model.summary()"
   ]
  },
  {
   "cell_type": "code",
   "execution_count": 15,
   "id": "f81182ba",
   "metadata": {},
   "outputs": [],
   "source": [
    "model.compile(loss=\"binary_crossentropy\", optimizer=Adam(learning_rate=0.0001), metrics=[tf.keras.metrics.Recall()])"
   ]
  },
  {
   "cell_type": "code",
   "execution_count": 16,
   "id": "e2b48ae3",
   "metadata": {},
   "outputs": [],
   "source": [
    "early_stopper = EarlyStopping(patience=15, restore_best_weights=True, monitor = \"val_loss\")"
   ]
  },
  {
   "cell_type": "code",
   "execution_count": 17,
   "id": "da2d2aa8",
   "metadata": {},
   "outputs": [
    {
     "name": "stdout",
     "output_type": "stream",
     "text": [
      "Epoch 1/100\n",
      "109/109 [==============================] - 3s 15ms/step - loss: 0.5771 - recall: 0.4995 - val_loss: 0.7552 - val_recall: 0.5312\n",
      "Epoch 2/100\n",
      "109/109 [==============================] - 1s 9ms/step - loss: 0.5402 - recall: 0.5933 - val_loss: 0.6539 - val_recall: 0.6276\n",
      "Epoch 3/100\n",
      "109/109 [==============================] - 1s 8ms/step - loss: 0.5328 - recall: 0.6140 - val_loss: 0.7058 - val_recall: 0.5904\n",
      "Epoch 4/100\n",
      "109/109 [==============================] - 1s 8ms/step - loss: 0.5246 - recall: 0.6248 - val_loss: 0.6951 - val_recall: 0.6078\n",
      "Epoch 5/100\n",
      "109/109 [==============================] - 1s 8ms/step - loss: 0.5159 - recall: 0.6402 - val_loss: 0.7006 - val_recall: 0.6081\n",
      "Epoch 6/100\n",
      "109/109 [==============================] - 1s 8ms/step - loss: 0.5081 - recall: 0.6596 - val_loss: 0.6376 - val_recall: 0.6699\n",
      "Epoch 7/100\n",
      "109/109 [==============================] - 1s 9ms/step - loss: 0.5029 - recall: 0.6701 - val_loss: 0.6348 - val_recall: 0.6708\n",
      "Epoch 8/100\n",
      "109/109 [==============================] - 1s 9ms/step - loss: 0.4994 - recall: 0.6784 - val_loss: 0.6899 - val_recall: 0.6370\n",
      "Epoch 9/100\n",
      "109/109 [==============================] - 1s 9ms/step - loss: 0.4973 - recall: 0.6795 - val_loss: 0.6262 - val_recall: 0.6904\n",
      "Epoch 10/100\n",
      "109/109 [==============================] - 1s 8ms/step - loss: 0.4951 - recall: 0.6853 - val_loss: 0.6257 - val_recall: 0.6866\n",
      "Epoch 11/100\n",
      "109/109 [==============================] - 1s 9ms/step - loss: 0.4930 - recall: 0.6896 - val_loss: 0.6436 - val_recall: 0.6776\n",
      "Epoch 12/100\n",
      "109/109 [==============================] - 1s 9ms/step - loss: 0.4917 - recall: 0.6917 - val_loss: 0.6248 - val_recall: 0.6943\n",
      "Epoch 13/100\n",
      "109/109 [==============================] - 1s 8ms/step - loss: 0.4901 - recall: 0.6960 - val_loss: 0.6282 - val_recall: 0.6899\n",
      "Epoch 14/100\n",
      "109/109 [==============================] - 1s 9ms/step - loss: 0.4890 - recall: 0.6970 - val_loss: 0.6369 - val_recall: 0.6826\n",
      "Epoch 15/100\n",
      "109/109 [==============================] - 1s 9ms/step - loss: 0.4884 - recall: 0.6993 - val_loss: 0.6567 - val_recall: 0.6710\n",
      "Epoch 16/100\n",
      "109/109 [==============================] - 1s 9ms/step - loss: 0.4875 - recall: 0.7012 - val_loss: 0.5902 - val_recall: 0.7272\n",
      "Epoch 17/100\n",
      "109/109 [==============================] - 1s 9ms/step - loss: 0.4864 - recall: 0.7055 - val_loss: 0.6363 - val_recall: 0.6908\n",
      "Epoch 18/100\n",
      "109/109 [==============================] - 1s 8ms/step - loss: 0.4856 - recall: 0.7039 - val_loss: 0.6215 - val_recall: 0.7000\n",
      "Epoch 19/100\n",
      "109/109 [==============================] - 1s 9ms/step - loss: 0.4852 - recall: 0.7070 - val_loss: 0.6294 - val_recall: 0.6969\n",
      "Epoch 20/100\n",
      "109/109 [==============================] - 1s 9ms/step - loss: 0.4846 - recall: 0.7104 - val_loss: 0.6352 - val_recall: 0.6941\n",
      "Epoch 21/100\n",
      "109/109 [==============================] - 1s 8ms/step - loss: 0.4837 - recall: 0.7093 - val_loss: 0.6454 - val_recall: 0.6828\n",
      "Epoch 22/100\n",
      "109/109 [==============================] - 1s 9ms/step - loss: 0.4836 - recall: 0.7080 - val_loss: 0.6285 - val_recall: 0.6985\n",
      "Epoch 23/100\n",
      "109/109 [==============================] - 1s 9ms/step - loss: 0.4832 - recall: 0.7118 - val_loss: 0.6005 - val_recall: 0.7155\n",
      "Epoch 24/100\n",
      "109/109 [==============================] - 1s 9ms/step - loss: 0.4823 - recall: 0.7115 - val_loss: 0.5683 - val_recall: 0.7442\n",
      "Epoch 25/100\n",
      "109/109 [==============================] - 1s 9ms/step - loss: 0.4820 - recall: 0.7150 - val_loss: 0.6406 - val_recall: 0.6920\n",
      "Epoch 26/100\n",
      "109/109 [==============================] - 1s 9ms/step - loss: 0.4819 - recall: 0.7141 - val_loss: 0.6499 - val_recall: 0.6797\n",
      "Epoch 27/100\n",
      "109/109 [==============================] - 1s 9ms/step - loss: 0.4817 - recall: 0.7159 - val_loss: 0.6154 - val_recall: 0.7084\n",
      "Epoch 28/100\n",
      "109/109 [==============================] - 1s 9ms/step - loss: 0.4815 - recall: 0.7157 - val_loss: 0.6445 - val_recall: 0.6842\n",
      "Epoch 29/100\n",
      "109/109 [==============================] - 1s 8ms/step - loss: 0.4808 - recall: 0.7147 - val_loss: 0.6053 - val_recall: 0.7178\n",
      "Epoch 30/100\n",
      "109/109 [==============================] - 1s 8ms/step - loss: 0.4805 - recall: 0.7147 - val_loss: 0.6265 - val_recall: 0.7009\n",
      "Epoch 31/100\n",
      "109/109 [==============================] - 1s 9ms/step - loss: 0.4802 - recall: 0.7153 - val_loss: 0.6051 - val_recall: 0.7179\n",
      "Epoch 32/100\n",
      "109/109 [==============================] - 1s 9ms/step - loss: 0.4799 - recall: 0.7150 - val_loss: 0.5883 - val_recall: 0.7273\n",
      "Epoch 33/100\n",
      "109/109 [==============================] - 1s 9ms/step - loss: 0.4797 - recall: 0.7174 - val_loss: 0.6232 - val_recall: 0.7016\n",
      "Epoch 34/100\n",
      "109/109 [==============================] - 1s 9ms/step - loss: 0.4796 - recall: 0.7195 - val_loss: 0.6197 - val_recall: 0.7070\n",
      "Epoch 35/100\n",
      "109/109 [==============================] - 1s 9ms/step - loss: 0.4793 - recall: 0.7147 - val_loss: 0.6170 - val_recall: 0.7049\n",
      "Epoch 36/100\n",
      "109/109 [==============================] - 1s 9ms/step - loss: 0.4791 - recall: 0.7178 - val_loss: 0.6231 - val_recall: 0.7014\n",
      "Epoch 37/100\n",
      "109/109 [==============================] - 1s 9ms/step - loss: 0.4790 - recall: 0.7168 - val_loss: 0.6298 - val_recall: 0.7005\n",
      "Epoch 38/100\n",
      "109/109 [==============================] - 1s 8ms/step - loss: 0.4789 - recall: 0.7177 - val_loss: 0.6263 - val_recall: 0.7009\n",
      "Epoch 39/100\n",
      "109/109 [==============================] - 1s 9ms/step - loss: 0.4787 - recall: 0.7160 - val_loss: 0.5969 - val_recall: 0.7216\n"
     ]
    },
    {
     "data": {
      "text/plain": [
       "<keras.src.callbacks.History at 0x7f8e88762d70>"
      ]
     },
     "execution_count": 17,
     "metadata": {},
     "output_type": "execute_result"
    }
   ],
   "source": [
    "model.fit(X_train, \n",
    "          y_train, \n",
    "          epochs=100, \n",
    "          batch_size=300, \n",
    "          callbacks=[early_stopper],\n",
    "          validation_split=0.15)"
   ]
  },
  {
   "cell_type": "code",
   "execution_count": 18,
   "id": "f8cb971f",
   "metadata": {},
   "outputs": [
    {
     "name": "stdout",
     "output_type": "stream",
     "text": [
      "Model: \"sequential\"\n",
      "_________________________________________________________________\n",
      " Layer (type)                Output Shape              Param #   \n",
      "=================================================================\n",
      " dense (Dense)               (None, 1000)              26000     \n",
      "                                                                 \n",
      " dense_1 (Dense)             (None, 100)               100100    \n",
      "                                                                 \n",
      " dense_2 (Dense)             (None, 10)                1010      \n",
      "                                                                 \n",
      " dense_3 (Dense)             (None, 1)                 11        \n",
      "                                                                 \n",
      "=================================================================\n",
      "Total params: 127121 (496.57 KB)\n",
      "Trainable params: 127121 (496.57 KB)\n",
      "Non-trainable params: 0 (0.00 Byte)\n",
      "_________________________________________________________________\n"
     ]
    }
   ],
   "source": [
    "model_1 = Sequential([\n",
    "    Dense(1000, activation=\"relu\", input_shape=(25,)),\n",
    "    Dense(100, activation=\"relu\"),\n",
    "    Dense(10, activation=\"relu\"),\n",
    "    Dense(1, activation=\"sigmoid\")\n",
    "])\n",
    "model.summary()"
   ]
  },
  {
   "cell_type": "code",
   "execution_count": 19,
   "id": "7ac2f883",
   "metadata": {},
   "outputs": [],
   "source": [
    "model_1.compile(loss=\"binary_crossentropy\", optimizer=Adam(learning_rate=0.0001), metrics=[tf.keras.metrics.Recall()])"
   ]
  },
  {
   "cell_type": "code",
   "execution_count": 20,
   "id": "c741f7c9",
   "metadata": {},
   "outputs": [],
   "source": [
    "early_stopper = EarlyStopping(patience=15, restore_best_weights=True, monitor = \"val_loss\")"
   ]
  },
  {
   "cell_type": "code",
   "execution_count": 21,
   "id": "be5291f3",
   "metadata": {},
   "outputs": [
    {
     "name": "stdout",
     "output_type": "stream",
     "text": [
      "Epoch 1/100\n",
      "109/109 [==============================] - 2s 14ms/step - loss: 0.5940 - recall_1: 0.4352 - val_loss: 0.7523 - val_recall_1: 0.5533\n",
      "Epoch 2/100\n",
      "109/109 [==============================] - 1s 8ms/step - loss: 0.5242 - recall_1: 0.6238 - val_loss: 0.6333 - val_recall_1: 0.6494\n",
      "Epoch 3/100\n",
      "109/109 [==============================] - 1s 8ms/step - loss: 0.5054 - recall_1: 0.6519 - val_loss: 0.6625 - val_recall_1: 0.6297\n",
      "Epoch 4/100\n",
      "109/109 [==============================] - 1s 8ms/step - loss: 0.4941 - recall_1: 0.6660 - val_loss: 0.6461 - val_recall_1: 0.6612\n",
      "Epoch 5/100\n",
      "109/109 [==============================] - 1s 8ms/step - loss: 0.4879 - recall_1: 0.6857 - val_loss: 0.6642 - val_recall_1: 0.6529\n",
      "Epoch 6/100\n",
      "109/109 [==============================] - 1s 8ms/step - loss: 0.4844 - recall_1: 0.7000 - val_loss: 0.6158 - val_recall_1: 0.7004\n",
      "Epoch 7/100\n",
      "109/109 [==============================] - 1s 8ms/step - loss: 0.4823 - recall_1: 0.7083 - val_loss: 0.6111 - val_recall_1: 0.7016\n",
      "Epoch 8/100\n",
      "109/109 [==============================] - 1s 8ms/step - loss: 0.4805 - recall_1: 0.7116 - val_loss: 0.7115 - val_recall_1: 0.6337\n",
      "Epoch 9/100\n",
      "109/109 [==============================] - 1s 8ms/step - loss: 0.4789 - recall_1: 0.7144 - val_loss: 0.6544 - val_recall_1: 0.6844\n",
      "Epoch 10/100\n",
      "109/109 [==============================] - 1s 8ms/step - loss: 0.4775 - recall_1: 0.7153 - val_loss: 0.6018 - val_recall_1: 0.7172\n",
      "Epoch 11/100\n",
      "109/109 [==============================] - 1s 8ms/step - loss: 0.4762 - recall_1: 0.7197 - val_loss: 0.6186 - val_recall_1: 0.7103\n",
      "Epoch 12/100\n",
      "109/109 [==============================] - 1s 8ms/step - loss: 0.4756 - recall_1: 0.7193 - val_loss: 0.6210 - val_recall_1: 0.7073\n",
      "Epoch 13/100\n",
      "109/109 [==============================] - 1s 8ms/step - loss: 0.4743 - recall_1: 0.7211 - val_loss: 0.6324 - val_recall_1: 0.7012\n",
      "Epoch 14/100\n",
      "109/109 [==============================] - 1s 8ms/step - loss: 0.4738 - recall_1: 0.7228 - val_loss: 0.6379 - val_recall_1: 0.6981\n",
      "Epoch 15/100\n",
      "109/109 [==============================] - 1s 8ms/step - loss: 0.4731 - recall_1: 0.7207 - val_loss: 0.6594 - val_recall_1: 0.6830\n",
      "Epoch 16/100\n",
      "109/109 [==============================] - 1s 8ms/step - loss: 0.4725 - recall_1: 0.7245 - val_loss: 0.6105 - val_recall_1: 0.7162\n",
      "Epoch 17/100\n",
      "109/109 [==============================] - 1s 8ms/step - loss: 0.4720 - recall_1: 0.7244 - val_loss: 0.6363 - val_recall_1: 0.6985\n",
      "Epoch 18/100\n",
      "109/109 [==============================] - 1s 8ms/step - loss: 0.4707 - recall_1: 0.7269 - val_loss: 0.6186 - val_recall_1: 0.7115\n",
      "Epoch 19/100\n",
      "109/109 [==============================] - 1s 8ms/step - loss: 0.4703 - recall_1: 0.7242 - val_loss: 0.6012 - val_recall_1: 0.7204\n",
      "Epoch 20/100\n",
      "109/109 [==============================] - 1s 8ms/step - loss: 0.4697 - recall_1: 0.7266 - val_loss: 0.6456 - val_recall_1: 0.6927\n",
      "Epoch 21/100\n",
      "109/109 [==============================] - 1s 8ms/step - loss: 0.4687 - recall_1: 0.7291 - val_loss: 0.6731 - val_recall_1: 0.6750\n",
      "Epoch 22/100\n",
      "109/109 [==============================] - 1s 8ms/step - loss: 0.4682 - recall_1: 0.7268 - val_loss: 0.6393 - val_recall_1: 0.6941\n",
      "Epoch 23/100\n",
      "109/109 [==============================] - 1s 8ms/step - loss: 0.4679 - recall_1: 0.7274 - val_loss: 0.6417 - val_recall_1: 0.7000\n",
      "Epoch 24/100\n",
      "109/109 [==============================] - 1s 8ms/step - loss: 0.4670 - recall_1: 0.7319 - val_loss: 0.5971 - val_recall_1: 0.7228\n",
      "Epoch 25/100\n",
      "109/109 [==============================] - 1s 8ms/step - loss: 0.4662 - recall_1: 0.7277 - val_loss: 0.6107 - val_recall_1: 0.7205\n",
      "Epoch 26/100\n",
      "109/109 [==============================] - 1s 8ms/step - loss: 0.4658 - recall_1: 0.7308 - val_loss: 0.6326 - val_recall_1: 0.7018\n",
      "Epoch 27/100\n",
      "109/109 [==============================] - 1s 8ms/step - loss: 0.4654 - recall_1: 0.7342 - val_loss: 0.6322 - val_recall_1: 0.7021\n",
      "Epoch 28/100\n",
      "109/109 [==============================] - 1s 8ms/step - loss: 0.4646 - recall_1: 0.7319 - val_loss: 0.6293 - val_recall_1: 0.7030\n",
      "Epoch 29/100\n",
      "109/109 [==============================] - 1s 8ms/step - loss: 0.4643 - recall_1: 0.7342 - val_loss: 0.6292 - val_recall_1: 0.7066\n",
      "Epoch 30/100\n",
      "109/109 [==============================] - 1s 8ms/step - loss: 0.4635 - recall_1: 0.7335 - val_loss: 0.6679 - val_recall_1: 0.6826\n",
      "Epoch 31/100\n",
      "109/109 [==============================] - 1s 9ms/step - loss: 0.4627 - recall_1: 0.7316 - val_loss: 0.6320 - val_recall_1: 0.7051\n",
      "Epoch 32/100\n",
      "109/109 [==============================] - 1s 9ms/step - loss: 0.4625 - recall_1: 0.7356 - val_loss: 0.5919 - val_recall_1: 0.7299\n",
      "Epoch 33/100\n",
      "109/109 [==============================] - 1s 9ms/step - loss: 0.4614 - recall_1: 0.7346 - val_loss: 0.5594 - val_recall_1: 0.7540\n",
      "Epoch 34/100\n",
      "109/109 [==============================] - 1s 8ms/step - loss: 0.4611 - recall_1: 0.7385 - val_loss: 0.6959 - val_recall_1: 0.6614\n",
      "Epoch 35/100\n",
      "109/109 [==============================] - 1s 8ms/step - loss: 0.4602 - recall_1: 0.7361 - val_loss: 0.5767 - val_recall_1: 0.7432\n",
      "Epoch 36/100\n",
      "109/109 [==============================] - 1s 8ms/step - loss: 0.4597 - recall_1: 0.7385 - val_loss: 0.5960 - val_recall_1: 0.7293\n",
      "Epoch 37/100\n",
      "109/109 [==============================] - 1s 9ms/step - loss: 0.4594 - recall_1: 0.7391 - val_loss: 0.6248 - val_recall_1: 0.7094\n",
      "Epoch 38/100\n",
      "109/109 [==============================] - 1s 8ms/step - loss: 0.4587 - recall_1: 0.7361 - val_loss: 0.6448 - val_recall_1: 0.6971\n",
      "Epoch 39/100\n",
      "109/109 [==============================] - 1s 8ms/step - loss: 0.4579 - recall_1: 0.7380 - val_loss: 0.5448 - val_recall_1: 0.7578\n",
      "Epoch 40/100\n",
      "109/109 [==============================] - 1s 8ms/step - loss: 0.4577 - recall_1: 0.7381 - val_loss: 0.5749 - val_recall_1: 0.7447\n",
      "Epoch 41/100\n",
      "109/109 [==============================] - 1s 8ms/step - loss: 0.4571 - recall_1: 0.7423 - val_loss: 0.5670 - val_recall_1: 0.7489\n",
      "Epoch 42/100\n",
      "109/109 [==============================] - 1s 8ms/step - loss: 0.4564 - recall_1: 0.7383 - val_loss: 0.5993 - val_recall_1: 0.7301\n",
      "Epoch 43/100\n",
      "109/109 [==============================] - 1s 8ms/step - loss: 0.4558 - recall_1: 0.7394 - val_loss: 0.6290 - val_recall_1: 0.7077\n",
      "Epoch 44/100\n",
      "109/109 [==============================] - 1s 8ms/step - loss: 0.4550 - recall_1: 0.7400 - val_loss: 0.5891 - val_recall_1: 0.7350\n",
      "Epoch 45/100\n",
      "109/109 [==============================] - 1s 8ms/step - loss: 0.4543 - recall_1: 0.7431 - val_loss: 0.5984 - val_recall_1: 0.7324\n",
      "Epoch 46/100\n",
      "109/109 [==============================] - 1s 8ms/step - loss: 0.4540 - recall_1: 0.7400 - val_loss: 0.6039 - val_recall_1: 0.7219\n",
      "Epoch 47/100\n",
      "109/109 [==============================] - 1s 8ms/step - loss: 0.4533 - recall_1: 0.7459 - val_loss: 0.6187 - val_recall_1: 0.7118\n",
      "Epoch 48/100\n",
      "109/109 [==============================] - 1s 8ms/step - loss: 0.4523 - recall_1: 0.7423 - val_loss: 0.6670 - val_recall_1: 0.6838\n",
      "Epoch 49/100\n",
      "109/109 [==============================] - 1s 8ms/step - loss: 0.4519 - recall_1: 0.7443 - val_loss: 0.5743 - val_recall_1: 0.7383\n",
      "Epoch 50/100\n",
      "109/109 [==============================] - 1s 8ms/step - loss: 0.4514 - recall_1: 0.7449 - val_loss: 0.6156 - val_recall_1: 0.7192\n",
      "Epoch 51/100\n",
      "109/109 [==============================] - 1s 8ms/step - loss: 0.4502 - recall_1: 0.7450 - val_loss: 0.6179 - val_recall_1: 0.7160\n",
      "Epoch 52/100\n",
      "109/109 [==============================] - 1s 8ms/step - loss: 0.4497 - recall_1: 0.7473 - val_loss: 0.6997 - val_recall_1: 0.6581\n",
      "Epoch 53/100\n",
      "109/109 [==============================] - 1s 8ms/step - loss: 0.4497 - recall_1: 0.7429 - val_loss: 0.6257 - val_recall_1: 0.7087\n",
      "Epoch 54/100\n",
      "109/109 [==============================] - 1s 8ms/step - loss: 0.4488 - recall_1: 0.7476 - val_loss: 0.6005 - val_recall_1: 0.7254\n"
     ]
    },
    {
     "data": {
      "text/plain": [
       "<keras.src.callbacks.History at 0x7f8e88139840>"
      ]
     },
     "execution_count": 21,
     "metadata": {},
     "output_type": "execute_result"
    }
   ],
   "source": [
    "model_1.fit(X_train, \n",
    "          y_train, \n",
    "          epochs=100, \n",
    "          batch_size=300, \n",
    "          callbacks=[early_stopper],\n",
    "          validation_split=0.15)"
   ]
  },
  {
   "cell_type": "code",
   "execution_count": 22,
   "id": "54db0c86",
   "metadata": {},
   "outputs": [
    {
     "name": "stdout",
     "output_type": "stream",
     "text": [
      "514/514 [==============================] - 1s 2ms/step\n"
     ]
    }
   ],
   "source": [
    "preds = model.predict(X_test)"
   ]
  },
  {
   "cell_type": "code",
   "execution_count": 23,
   "id": "673d002b",
   "metadata": {},
   "outputs": [
    {
     "name": "stdout",
     "output_type": "stream",
     "text": [
      "514/514 [==============================] - 1s 2ms/step\n"
     ]
    }
   ],
   "source": [
    "preds_1 = model_1.predict(X_test)"
   ]
  },
  {
   "cell_type": "code",
   "execution_count": 24,
   "id": "1611715c",
   "metadata": {},
   "outputs": [],
   "source": [
    "from sklearn.metrics import recall_score, accuracy_score, confusion_matrix, ConfusionMatrixDisplay"
   ]
  },
  {
   "cell_type": "code",
   "execution_count": 25,
   "id": "7dc1b79c",
   "metadata": {},
   "outputs": [],
   "source": [
    "def treshold_05(x):\n",
    "  if x > 0.5:\n",
    "    return 1\n",
    "  return 0"
   ]
  },
  {
   "cell_type": "code",
   "execution_count": 26,
   "id": "3b75385a",
   "metadata": {},
   "outputs": [],
   "source": [
    "preds_05 = np.vectorize(treshold_05)(preds)\n",
    "preds_1_05 = np.vectorize(treshold_05)(preds_1)"
   ]
  },
  {
   "cell_type": "code",
   "execution_count": 27,
   "id": "596d4958",
   "metadata": {},
   "outputs": [
    {
     "data": {
      "text/plain": [
       "0.7444890999878212"
      ]
     },
     "execution_count": 27,
     "metadata": {},
     "output_type": "execute_result"
    }
   ],
   "source": [
    "recall_score(y_test, preds_05)"
   ]
  },
  {
   "cell_type": "code",
   "execution_count": 28,
   "id": "e8de4f9b",
   "metadata": {},
   "outputs": [
    {
     "data": {
      "text/plain": [
       "0.7601388381439532"
      ]
     },
     "execution_count": 28,
     "metadata": {},
     "output_type": "execute_result"
    }
   ],
   "source": [
    "accuracy_score(y_test, preds_05)"
   ]
  },
  {
   "cell_type": "code",
   "execution_count": 29,
   "id": "abfbf026",
   "metadata": {},
   "outputs": [
    {
     "data": {
      "text/plain": [
       "0.7549628547071002"
      ]
     },
     "execution_count": 29,
     "metadata": {},
     "output_type": "execute_result"
    }
   ],
   "source": [
    "recall_score(y_test, preds_1_05)"
   ]
  },
  {
   "cell_type": "code",
   "execution_count": 30,
   "id": "61d39c7a",
   "metadata": {},
   "outputs": [
    {
     "data": {
      "text/plain": [
       "0.7589209596882232"
      ]
     },
     "execution_count": 30,
     "metadata": {},
     "output_type": "execute_result"
    }
   ],
   "source": [
    "accuracy_score(y_test, preds_1_05)"
   ]
  },
  {
   "cell_type": "code",
   "execution_count": 31,
   "id": "af8ebb6b",
   "metadata": {},
   "outputs": [],
   "source": [
    "cm_05 = confusion_matrix(y_test, preds_05)"
   ]
  },
  {
   "cell_type": "code",
   "execution_count": 32,
   "id": "3c4cd067",
   "metadata": {},
   "outputs": [],
   "source": [
    "cm_1_05 = confusion_matrix(y_test, preds_1_05)"
   ]
  },
  {
   "cell_type": "code",
   "execution_count": 33,
   "id": "b093ef51",
   "metadata": {},
   "outputs": [
    {
     "data": {
      "text/plain": [
       "<sklearn.metrics._plot.confusion_matrix.ConfusionMatrixDisplay at 0x7f8f0c217520>"
      ]
     },
     "execution_count": 33,
     "metadata": {},
     "output_type": "execute_result"
    },
    {
     "data": {
      "image/png": "[encoded data removed]",
      "text/plain": [
       "<Figure size 640x480 with 2 Axes>"
      ]
     },
     "metadata": {},
     "output_type": "display_data"
    }
   ],
   "source": [
    "disp = ConfusionMatrixDisplay(confusion_matrix=cm_05)\n",
    "disp.plot()"
   ]
  },
  {
   "cell_type": "code",
   "execution_count": 34,
   "id": "3b649f1d",
   "metadata": {},
   "outputs": [
    {
     "data": {
      "text/plain": [
       "<sklearn.metrics._plot.confusion_matrix.ConfusionMatrixDisplay at 0x7f8e6b583d00>"
      ]
     },
     "execution_count": 34,
     "metadata": {},
     "output_type": "execute_result"
    },
    {
     "data": {
      "image/png": "[encoded data removed]",
      "text/plain": [
       "<Figure size 640x480 with 2 Axes>"
      ]
     },
     "metadata": {},
     "output_type": "display_data"
    }
   ],
   "source": [
    "disp = ConfusionMatrixDisplay(confusion_matrix=cm_1_05)\n",
    "disp.plot()"
   ]
  },
  {
   "cell_type": "code",
   "execution_count": 35,
   "id": "88a2cccc",
   "metadata": {},
   "outputs": [],
   "source": [
    "def treshold_03(x):\n",
    "  if x > 0.3:\n",
    "    return 1\n",
    "  return 0"
   ]
  },
  {
   "cell_type": "code",
   "execution_count": 36,
   "id": "4fded7ce",
   "metadata": {},
   "outputs": [],
   "source": [
    "preds_03 = np.vectorize(treshold_03)(preds)\n",
    "preds_1_03 = np.vectorize(treshold_03)(preds_1)"
   ]
  },
  {
   "cell_type": "code",
   "execution_count": 37,
   "id": "54ed7247",
   "metadata": {},
   "outputs": [
    {
     "data": {
      "text/plain": [
       "0.8984289367921081"
      ]
     },
     "execution_count": 37,
     "metadata": {},
     "output_type": "execute_result"
    }
   ],
   "source": [
    "recall_score(y_test, preds_03)"
   ]
  },
  {
   "cell_type": "code",
   "execution_count": 38,
   "id": "1304f715",
   "metadata": {},
   "outputs": [
    {
     "data": {
      "text/plain": [
       "0.7485080988917306"
      ]
     },
     "execution_count": 38,
     "metadata": {},
     "output_type": "execute_result"
    }
   ],
   "source": [
    "accuracy_score(y_test, preds_03)"
   ]
  },
  {
   "cell_type": "code",
   "execution_count": 39,
   "id": "8cf54b31",
   "metadata": {},
   "outputs": [
    {
     "data": {
      "text/plain": [
       "0.8885641213006942"
      ]
     },
     "execution_count": 39,
     "metadata": {},
     "output_type": "execute_result"
    }
   ],
   "source": [
    "recall_score(y_test, preds_1_03)"
   ]
  },
  {
   "cell_type": "code",
   "execution_count": 40,
   "id": "823e8345",
   "metadata": {},
   "outputs": [
    {
     "data": {
      "text/plain": [
       "0.7545365972475947"
      ]
     },
     "execution_count": 40,
     "metadata": {},
     "output_type": "execute_result"
    }
   ],
   "source": [
    "accuracy_score(y_test, preds_1_03)"
   ]
  },
  {
   "cell_type": "code",
   "execution_count": 41,
   "id": "563af08b",
   "metadata": {},
   "outputs": [],
   "source": [
    "cm_03 = confusion_matrix(y_test, preds_03)"
   ]
  },
  {
   "cell_type": "code",
   "execution_count": 42,
   "id": "f26d6f32",
   "metadata": {},
   "outputs": [],
   "source": [
    "cm_1_03 = confusion_matrix(y_test, preds_1_03)"
   ]
  },
  {
   "cell_type": "code",
   "execution_count": 43,
   "id": "8ef166e8",
   "metadata": {},
   "outputs": [
    {
     "data": {
      "text/plain": [
       "<sklearn.metrics._plot.confusion_matrix.ConfusionMatrixDisplay at 0x7f8e6a1ee1a0>"
      ]
     },
     "execution_count": 43,
     "metadata": {},
     "output_type": "execute_result"
    },
    {
     "data": {
      "image/png": "[encoded data removed]",
      "text/plain": [
       "<Figure size 640x480 with 2 Axes>"
      ]
     },
     "metadata": {},
     "output_type": "display_data"
    }
   ],
   "source": [
    "disp = ConfusionMatrixDisplay(confusion_matrix=cm_03)\n",
    "disp.plot()"
   ]
  },
  {
   "cell_type": "code",
   "execution_count": 44,
   "id": "45786028",
   "metadata": {},
   "outputs": [
    {
     "data": {
      "text/plain": [
       "<sklearn.metrics._plot.confusion_matrix.ConfusionMatrixDisplay at 0x7f8e6a191f00>"
      ]
     },
     "execution_count": 44,
     "metadata": {},
     "output_type": "execute_result"
    },
    {
     "data": {
      "image/png": "[encoded data removed]",
      "text/plain": [
       "<Figure size 640x480 with 2 Axes>"
      ]
     },
     "metadata": {},
     "output_type": "display_data"
    }
   ],
   "source": [
    "disp = ConfusionMatrixDisplay(confusion_matrix=cm_1_03)\n",
    "disp.plot()"
   ]
  }
 ],
 "metadata": {
  "kernelspec": {
   "display_name": "Python 3 (ipykernel)",
   "language": "python",
   "name": "python3"
  },
  "language_info": {
   "codemirror_mode": {
    "name": "ipython",
    "version": 3
   },
   "file_extension": ".py",
   "mimetype": "text/x-python",
   "name": "python",
   "nbconvert_exporter": "python",
   "pygments_lexer": "ipython3",
   "version": "3.10.6"
  }
 },
 "nbformat": 4,
 "nbformat_minor": 5
}
