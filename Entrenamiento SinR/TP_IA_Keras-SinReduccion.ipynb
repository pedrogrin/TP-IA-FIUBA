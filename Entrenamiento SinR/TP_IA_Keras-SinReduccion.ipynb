{
 "cells": [
  {
   "cell_type": "code",
   "execution_count": 1,
   "id": "24457d57",
   "metadata": {},
   "outputs": [
    {
     "name": "stdout",
     "output_type": "stream",
     "text": [
      "Pandas Version: 1.5.3\n"
     ]
    }
   ],
   "source": [
    "import pandas as pd\n",
    "#Configuración de parametros de Pandas para mejor visualización\n",
    "pd.set_option('display.max_columns', None)\n",
    "pd.set_option('display.max_rows', None)\n",
    "pd.set_option('display.max_colwidth', None)\n",
    "pd.set_option('display.precision', 3)\n",
    "pd.set_option('plotting.backend', 'matplotlib') \n",
    "pd.options.mode.chained_assignment = None\n",
    "\n",
    "# En produccion eliminar, se incluye por informacion\n",
    "print(f'Pandas Version: {pd.__version__}') "
   ]
  },
  {
   "cell_type": "code",
   "execution_count": 2,
   "id": "3fba1fe1",
   "metadata": {},
   "outputs": [],
   "source": [
    "import matplotlib.pyplot as plt"
   ]
  },
  {
   "cell_type": "code",
   "execution_count": 3,
   "id": "07ef220c",
   "metadata": {},
   "outputs": [],
   "source": [
    "import numpy as np"
   ]
  },
  {
   "cell_type": "code",
   "execution_count": 4,
   "id": "b85a3b11",
   "metadata": {},
   "outputs": [],
   "source": [
    "X_train = pd.read_csv('/home/pedro/TpIAFiuba/Datos/X_train_con_escalado.csv', encoding = 'unicode_escape')\n",
    "X_test = pd.read_csv('/home/pedro/TpIAFiuba/Datos/X_test_con_escalado.csv', encoding = 'unicode_escape')\n",
    "\n",
    "y_train = pd.read_csv('/home/pedro/TpIAFiuba/Datos/y_train.csv', encoding = 'unicode_escape').to_numpy().reshape(-1)\n",
    "y_test = pd.read_csv('/home/pedro/TpIAFiuba/Datos/y_test.csv', encoding = 'unicode_escape').to_numpy().reshape(-1)"
   ]
  },
  {
   "cell_type": "code",
   "execution_count": 5,
   "id": "6553ac2a",
   "metadata": {},
   "outputs": [
    {
     "data": {
      "text/plain": [
       "(38312, 16422)"
      ]
     },
     "execution_count": 5,
     "metadata": {},
     "output_type": "execute_result"
    }
   ],
   "source": [
    "len(X_train), len(X_test)"
   ]
  },
  {
   "cell_type": "code",
   "execution_count": 6,
   "id": "f26766de",
   "metadata": {},
   "outputs": [
    {
     "name": "stderr",
     "output_type": "stream",
     "text": [
      "2023-07-08 13:20:13.844812: I tensorflow/tsl/cuda/cudart_stub.cc:28] Could not find cuda drivers on your machine, GPU will not be used.\n",
      "2023-07-08 13:20:13.990524: I tensorflow/tsl/cuda/cudart_stub.cc:28] Could not find cuda drivers on your machine, GPU will not be used.\n",
      "2023-07-08 13:20:13.991406: I tensorflow/core/platform/cpu_feature_guard.cc:182] This TensorFlow binary is optimized to use available CPU instructions in performance-critical operations.\n",
      "To enable the following instructions: AVX2 FMA, in other operations, rebuild TensorFlow with the appropriate compiler flags.\n",
      "2023-07-08 13:20:15.637640: W tensorflow/compiler/tf2tensorrt/utils/py_utils.cc:38] TF-TRT Warning: Could not find TensorRT\n"
     ]
    }
   ],
   "source": [
    "from tensorflow.keras.models import Model, Sequential\n",
    "from tensorflow.keras.layers import Dense, Input"
   ]
  },
  {
   "cell_type": "code",
   "execution_count": 7,
   "id": "78b9e007",
   "metadata": {},
   "outputs": [],
   "source": [
    "from tensorflow.keras.optimizers import Adam"
   ]
  },
  {
   "cell_type": "code",
   "execution_count": 8,
   "id": "19711115",
   "metadata": {},
   "outputs": [],
   "source": [
    "from tensorflow.keras.callbacks import EarlyStopping"
   ]
  },
  {
   "cell_type": "code",
   "execution_count": 9,
   "id": "8e90ee60",
   "metadata": {},
   "outputs": [],
   "source": [
    "from tensorflow.keras.utils import set_random_seed"
   ]
  },
  {
   "cell_type": "code",
   "execution_count": 10,
   "id": "b0661951",
   "metadata": {},
   "outputs": [],
   "source": [
    "import tensorflow as tf"
   ]
  },
  {
   "cell_type": "code",
   "execution_count": 11,
   "id": "9f9593ab",
   "metadata": {},
   "outputs": [],
   "source": [
    "set_random_seed(10)"
   ]
  },
  {
   "cell_type": "code",
   "execution_count": 12,
   "id": "45a01f08",
   "metadata": {},
   "outputs": [
    {
     "name": "stdout",
     "output_type": "stream",
     "text": [
      "Model: \"sequential\"\n",
      "_________________________________________________________________\n",
      " Layer (type)                Output Shape              Param #   \n",
      "=================================================================\n",
      " dense (Dense)               (None, 1000)              26000     \n",
      "                                                                 \n",
      " dense_1 (Dense)             (None, 100)               100100    \n",
      "                                                                 \n",
      " dense_2 (Dense)             (None, 10)                1010      \n",
      "                                                                 \n",
      " dense_3 (Dense)             (None, 1)                 11        \n",
      "                                                                 \n",
      "=================================================================\n",
      "Total params: 127121 (496.57 KB)\n",
      "Trainable params: 127121 (496.57 KB)\n",
      "Non-trainable params: 0 (0.00 Byte)\n",
      "_________________________________________________________________\n"
     ]
    }
   ],
   "source": [
    "model = Sequential([\n",
    "    Dense(1000, activation=\"tanh\", input_shape=(25,)),\n",
    "    Dense(100, activation=\"tanh\"),\n",
    "    Dense(10, activation=\"tanh\"),\n",
    "    Dense(1, activation=\"sigmoid\")\n",
    "])\n",
    "model.summary()"
   ]
  },
  {
   "cell_type": "code",
   "execution_count": 13,
   "id": "f81182ba",
   "metadata": {},
   "outputs": [],
   "source": [
    "model.compile(loss=\"binary_crossentropy\", optimizer=Adam(learning_rate=0.0001), metrics=[tf.keras.metrics.Recall()])"
   ]
  },
  {
   "cell_type": "code",
   "execution_count": 14,
   "id": "e2b48ae3",
   "metadata": {},
   "outputs": [],
   "source": [
    "early_stopper = EarlyStopping(patience=15, restore_best_weights=True, monitor = \"val_loss\")"
   ]
  },
  {
   "cell_type": "code",
   "execution_count": 15,
   "id": "da2d2aa8",
   "metadata": {},
   "outputs": [
    {
     "name": "stdout",
     "output_type": "stream",
     "text": [
      "Epoch 1/100\n",
      "109/109 [==============================] - 3s 15ms/step - loss: 0.5780 - recall: 0.5128 - val_loss: 0.7604 - val_recall: 0.5258\n",
      "Epoch 2/100\n",
      "109/109 [==============================] - 1s 10ms/step - loss: 0.5396 - recall: 0.5938 - val_loss: 0.6784 - val_recall: 0.6015\n",
      "Epoch 3/100\n",
      "109/109 [==============================] - 1s 10ms/step - loss: 0.5264 - recall: 0.6228 - val_loss: 0.6859 - val_recall: 0.6080\n",
      "Epoch 4/100\n",
      "109/109 [==============================] - 1s 9ms/step - loss: 0.5148 - recall: 0.6445 - val_loss: 0.6779 - val_recall: 0.6316\n",
      "Epoch 5/100\n",
      "109/109 [==============================] - 1s 9ms/step - loss: 0.5078 - recall: 0.6587 - val_loss: 0.6802 - val_recall: 0.6262\n",
      "Epoch 6/100\n",
      "109/109 [==============================] - 1s 8ms/step - loss: 0.5038 - recall: 0.6659 - val_loss: 0.6311 - val_recall: 0.6718\n",
      "Epoch 7/100\n",
      "109/109 [==============================] - 1s 8ms/step - loss: 0.5007 - recall: 0.6690 - val_loss: 0.6341 - val_recall: 0.6730\n",
      "Epoch 8/100\n",
      "109/109 [==============================] - 1s 8ms/step - loss: 0.4982 - recall: 0.6750 - val_loss: 0.6833 - val_recall: 0.6369\n",
      "Epoch 9/100\n",
      "109/109 [==============================] - 1s 8ms/step - loss: 0.4964 - recall: 0.6734 - val_loss: 0.6215 - val_recall: 0.6840\n",
      "Epoch 10/100\n",
      "109/109 [==============================] - 1s 8ms/step - loss: 0.4944 - recall: 0.6795 - val_loss: 0.6238 - val_recall: 0.6821\n",
      "Epoch 11/100\n",
      "109/109 [==============================] - 1s 8ms/step - loss: 0.4926 - recall: 0.6833 - val_loss: 0.6459 - val_recall: 0.6657\n",
      "Epoch 12/100\n",
      "109/109 [==============================] - 1s 8ms/step - loss: 0.4914 - recall: 0.6856 - val_loss: 0.6220 - val_recall: 0.6901\n",
      "Epoch 13/100\n",
      "109/109 [==============================] - 1s 8ms/step - loss: 0.4900 - recall: 0.6909 - val_loss: 0.6345 - val_recall: 0.6786\n",
      "Epoch 14/100\n",
      "109/109 [==============================] - 1s 8ms/step - loss: 0.4888 - recall: 0.6927 - val_loss: 0.6322 - val_recall: 0.6817\n",
      "Epoch 15/100\n",
      "109/109 [==============================] - 1s 8ms/step - loss: 0.4879 - recall: 0.6919 - val_loss: 0.6507 - val_recall: 0.6683\n",
      "Epoch 16/100\n",
      "109/109 [==============================] - 1s 8ms/step - loss: 0.4871 - recall: 0.6934 - val_loss: 0.5992 - val_recall: 0.7124\n",
      "Epoch 17/100\n",
      "109/109 [==============================] - 1s 8ms/step - loss: 0.4859 - recall: 0.6989 - val_loss: 0.6419 - val_recall: 0.6798\n",
      "Epoch 18/100\n",
      "109/109 [==============================] - 1s 8ms/step - loss: 0.4853 - recall: 0.7005 - val_loss: 0.6187 - val_recall: 0.6978\n",
      "Epoch 19/100\n",
      "109/109 [==============================] - 1s 8ms/step - loss: 0.4844 - recall: 0.7014 - val_loss: 0.6250 - val_recall: 0.6932\n",
      "Epoch 20/100\n",
      "109/109 [==============================] - 1s 8ms/step - loss: 0.4840 - recall: 0.7056 - val_loss: 0.6264 - val_recall: 0.6946\n",
      "Epoch 21/100\n",
      "109/109 [==============================] - 1s 8ms/step - loss: 0.4830 - recall: 0.7036 - val_loss: 0.6347 - val_recall: 0.6899\n",
      "Epoch 22/100\n",
      "109/109 [==============================] - 1s 8ms/step - loss: 0.4828 - recall: 0.7030 - val_loss: 0.6190 - val_recall: 0.7005\n",
      "Epoch 23/100\n",
      "109/109 [==============================] - 1s 8ms/step - loss: 0.4822 - recall: 0.7054 - val_loss: 0.6048 - val_recall: 0.7073\n",
      "Epoch 24/100\n",
      "109/109 [==============================] - 1s 8ms/step - loss: 0.4815 - recall: 0.7074 - val_loss: 0.5653 - val_recall: 0.7451\n",
      "Epoch 25/100\n",
      "109/109 [==============================] - 1s 8ms/step - loss: 0.4812 - recall: 0.7097 - val_loss: 0.6255 - val_recall: 0.7014\n",
      "Epoch 26/100\n",
      "109/109 [==============================] - 1s 8ms/step - loss: 0.4809 - recall: 0.7090 - val_loss: 0.6478 - val_recall: 0.6791\n",
      "Epoch 27/100\n",
      "109/109 [==============================] - 1s 8ms/step - loss: 0.4808 - recall: 0.7130 - val_loss: 0.6207 - val_recall: 0.6988\n",
      "Epoch 28/100\n",
      "109/109 [==============================] - 1s 8ms/step - loss: 0.4803 - recall: 0.7131 - val_loss: 0.6369 - val_recall: 0.6908\n",
      "Epoch 29/100\n",
      "109/109 [==============================] - 1s 8ms/step - loss: 0.4797 - recall: 0.7083 - val_loss: 0.6099 - val_recall: 0.7112\n",
      "Epoch 30/100\n",
      "109/109 [==============================] - 1s 8ms/step - loss: 0.4795 - recall: 0.7130 - val_loss: 0.6215 - val_recall: 0.7025\n",
      "Epoch 31/100\n",
      "109/109 [==============================] - 1s 8ms/step - loss: 0.4791 - recall: 0.7118 - val_loss: 0.6075 - val_recall: 0.7146\n",
      "Epoch 32/100\n",
      "109/109 [==============================] - 1s 8ms/step - loss: 0.4790 - recall: 0.7127 - val_loss: 0.5924 - val_recall: 0.7226\n",
      "Epoch 33/100\n",
      "109/109 [==============================] - 1s 8ms/step - loss: 0.4788 - recall: 0.7144 - val_loss: 0.6299 - val_recall: 0.6946\n",
      "Epoch 34/100\n",
      "109/109 [==============================] - 1s 8ms/step - loss: 0.4785 - recall: 0.7159 - val_loss: 0.6282 - val_recall: 0.7005\n",
      "Epoch 35/100\n",
      "109/109 [==============================] - 1s 8ms/step - loss: 0.4782 - recall: 0.7124 - val_loss: 0.6249 - val_recall: 0.7014\n",
      "Epoch 36/100\n",
      "109/109 [==============================] - 1s 8ms/step - loss: 0.4780 - recall: 0.7150 - val_loss: 0.6292 - val_recall: 0.6971\n",
      "Epoch 37/100\n",
      "109/109 [==============================] - 1s 9ms/step - loss: 0.4779 - recall: 0.7160 - val_loss: 0.6333 - val_recall: 0.6965\n",
      "Epoch 38/100\n",
      "109/109 [==============================] - 1s 8ms/step - loss: 0.4777 - recall: 0.7158 - val_loss: 0.6285 - val_recall: 0.7026\n",
      "Epoch 39/100\n",
      "109/109 [==============================] - 1s 8ms/step - loss: 0.4775 - recall: 0.7144 - val_loss: 0.6007 - val_recall: 0.7202\n"
     ]
    },
    {
     "data": {
      "text/plain": [
       "<keras.src.callbacks.History at 0x7fe6d43245b0>"
      ]
     },
     "execution_count": 15,
     "metadata": {},
     "output_type": "execute_result"
    }
   ],
   "source": [
    "model.fit(X_train, \n",
    "          y_train, \n",
    "          epochs=100, \n",
    "          batch_size=300, \n",
    "          callbacks=[early_stopper],\n",
    "          validation_split=0.15)"
   ]
  },
  {
   "cell_type": "code",
   "execution_count": 16,
   "id": "f8cb971f",
   "metadata": {},
   "outputs": [
    {
     "name": "stdout",
     "output_type": "stream",
     "text": [
      "Model: \"sequential\"\n",
      "_________________________________________________________________\n",
      " Layer (type)                Output Shape              Param #   \n",
      "=================================================================\n",
      " dense (Dense)               (None, 1000)              26000     \n",
      "                                                                 \n",
      " dense_1 (Dense)             (None, 100)               100100    \n",
      "                                                                 \n",
      " dense_2 (Dense)             (None, 10)                1010      \n",
      "                                                                 \n",
      " dense_3 (Dense)             (None, 1)                 11        \n",
      "                                                                 \n",
      "=================================================================\n",
      "Total params: 127121 (496.57 KB)\n",
      "Trainable params: 127121 (496.57 KB)\n",
      "Non-trainable params: 0 (0.00 Byte)\n",
      "_________________________________________________________________\n"
     ]
    }
   ],
   "source": [
    "model_1 = Sequential([\n",
    "    Dense(1000, activation=\"relu\", input_shape=(25,)),\n",
    "    Dense(100, activation=\"relu\"),\n",
    "    Dense(10, activation=\"relu\"),\n",
    "    Dense(1, activation=\"sigmoid\")\n",
    "])\n",
    "model.summary()"
   ]
  },
  {
   "cell_type": "code",
   "execution_count": 17,
   "id": "7ac2f883",
   "metadata": {},
   "outputs": [],
   "source": [
    "model_1.compile(loss=\"binary_crossentropy\", optimizer=Adam(learning_rate=0.0001), metrics=[tf.keras.metrics.Recall()])"
   ]
  },
  {
   "cell_type": "code",
   "execution_count": 18,
   "id": "c741f7c9",
   "metadata": {},
   "outputs": [],
   "source": [
    "early_stopper = EarlyStopping(patience=15, restore_best_weights=True, monitor = \"val_loss\")"
   ]
  },
  {
   "cell_type": "code",
   "execution_count": 19,
   "id": "be5291f3",
   "metadata": {},
   "outputs": [
    {
     "name": "stdout",
     "output_type": "stream",
     "text": [
      "Epoch 1/100\n",
      "109/109 [==============================] - 2s 14ms/step - loss: 0.5939 - recall_1: 0.4435 - val_loss: 0.7656 - val_recall_1: 0.5420\n",
      "Epoch 2/100\n",
      "109/109 [==============================] - 1s 8ms/step - loss: 0.5298 - recall_1: 0.6221 - val_loss: 0.6439 - val_recall_1: 0.6508\n",
      "Epoch 3/100\n",
      "109/109 [==============================] - 1s 8ms/step - loss: 0.5131 - recall_1: 0.6488 - val_loss: 0.6802 - val_recall_1: 0.6245\n",
      "Epoch 4/100\n",
      "109/109 [==============================] - 1s 8ms/step - loss: 0.5023 - recall_1: 0.6525 - val_loss: 0.6504 - val_recall_1: 0.6508\n",
      "Epoch 5/100\n",
      "109/109 [==============================] - 1s 8ms/step - loss: 0.4941 - recall_1: 0.6706 - val_loss: 0.6742 - val_recall_1: 0.6369\n",
      "Epoch 6/100\n",
      "109/109 [==============================] - 1s 8ms/step - loss: 0.4886 - recall_1: 0.6836 - val_loss: 0.6101 - val_recall_1: 0.6981\n",
      "Epoch 7/100\n",
      "109/109 [==============================] - 1s 8ms/step - loss: 0.4848 - recall_1: 0.6940 - val_loss: 0.6136 - val_recall_1: 0.6960\n",
      "Epoch 8/100\n",
      "109/109 [==============================] - 1s 8ms/step - loss: 0.4820 - recall_1: 0.7021 - val_loss: 0.7051 - val_recall_1: 0.6374\n",
      "Epoch 9/100\n",
      "109/109 [==============================] - 1s 11ms/step - loss: 0.4795 - recall_1: 0.7094 - val_loss: 0.6552 - val_recall_1: 0.6732\n",
      "Epoch 10/100\n",
      "109/109 [==============================] - 1s 8ms/step - loss: 0.4773 - recall_1: 0.7127 - val_loss: 0.6044 - val_recall_1: 0.7157\n",
      "Epoch 11/100\n",
      "109/109 [==============================] - 1s 8ms/step - loss: 0.4756 - recall_1: 0.7168 - val_loss: 0.6243 - val_recall_1: 0.7021\n",
      "Epoch 12/100\n",
      "109/109 [==============================] - 1s 8ms/step - loss: 0.4743 - recall_1: 0.7193 - val_loss: 0.6186 - val_recall_1: 0.7108\n",
      "Epoch 13/100\n",
      "109/109 [==============================] - 1s 8ms/step - loss: 0.4728 - recall_1: 0.7223 - val_loss: 0.6237 - val_recall_1: 0.7094\n",
      "Epoch 14/100\n",
      "109/109 [==============================] - 1s 8ms/step - loss: 0.4717 - recall_1: 0.7261 - val_loss: 0.6442 - val_recall_1: 0.6931\n",
      "Epoch 15/100\n",
      "109/109 [==============================] - 1s 8ms/step - loss: 0.4707 - recall_1: 0.7248 - val_loss: 0.6604 - val_recall_1: 0.6833\n",
      "Epoch 16/100\n",
      "109/109 [==============================] - 1s 8ms/step - loss: 0.4697 - recall_1: 0.7268 - val_loss: 0.6113 - val_recall_1: 0.7190\n",
      "Epoch 17/100\n",
      "109/109 [==============================] - 1s 8ms/step - loss: 0.4691 - recall_1: 0.7281 - val_loss: 0.6452 - val_recall_1: 0.6979\n",
      "Epoch 18/100\n",
      "109/109 [==============================] - 1s 8ms/step - loss: 0.4675 - recall_1: 0.7276 - val_loss: 0.6180 - val_recall_1: 0.7153\n",
      "Epoch 19/100\n",
      "109/109 [==============================] - 1s 8ms/step - loss: 0.4668 - recall_1: 0.7285 - val_loss: 0.6102 - val_recall_1: 0.7179\n",
      "Epoch 20/100\n",
      "109/109 [==============================] - 1s 8ms/step - loss: 0.4657 - recall_1: 0.7326 - val_loss: 0.6487 - val_recall_1: 0.6925\n",
      "Epoch 21/100\n",
      "109/109 [==============================] - 1s 10ms/step - loss: 0.4644 - recall_1: 0.7321 - val_loss: 0.6753 - val_recall_1: 0.6770\n",
      "Epoch 22/100\n",
      "109/109 [==============================] - 1s 9ms/step - loss: 0.4637 - recall_1: 0.7317 - val_loss: 0.6414 - val_recall_1: 0.6986\n",
      "Epoch 23/100\n",
      "109/109 [==============================] - 1s 10ms/step - loss: 0.4631 - recall_1: 0.7330 - val_loss: 0.6422 - val_recall_1: 0.7021\n",
      "Epoch 24/100\n",
      "109/109 [==============================] - 1s 11ms/step - loss: 0.4618 - recall_1: 0.7343 - val_loss: 0.6004 - val_recall_1: 0.7244\n",
      "Epoch 25/100\n",
      "109/109 [==============================] - 1s 11ms/step - loss: 0.4612 - recall_1: 0.7344 - val_loss: 0.6241 - val_recall_1: 0.7117\n",
      "Epoch 26/100\n",
      "109/109 [==============================] - 1s 8ms/step - loss: 0.4604 - recall_1: 0.7353 - val_loss: 0.6313 - val_recall_1: 0.7059\n",
      "Epoch 27/100\n",
      "109/109 [==============================] - 1s 9ms/step - loss: 0.4597 - recall_1: 0.7406 - val_loss: 0.6349 - val_recall_1: 0.7040\n",
      "Epoch 28/100\n",
      "109/109 [==============================] - 1s 9ms/step - loss: 0.4586 - recall_1: 0.7371 - val_loss: 0.6325 - val_recall_1: 0.7075\n",
      "Epoch 29/100\n",
      "109/109 [==============================] - 1s 9ms/step - loss: 0.4580 - recall_1: 0.7407 - val_loss: 0.6369 - val_recall_1: 0.7065\n",
      "Epoch 30/100\n",
      "109/109 [==============================] - 1s 8ms/step - loss: 0.4569 - recall_1: 0.7376 - val_loss: 0.6864 - val_recall_1: 0.6699\n",
      "Epoch 31/100\n",
      "109/109 [==============================] - 1s 9ms/step - loss: 0.4560 - recall_1: 0.7397 - val_loss: 0.6445 - val_recall_1: 0.7000\n",
      "Epoch 32/100\n",
      "109/109 [==============================] - 1s 7ms/step - loss: 0.4555 - recall_1: 0.7416 - val_loss: 0.6062 - val_recall_1: 0.7223\n",
      "Epoch 33/100\n",
      "109/109 [==============================] - 1s 7ms/step - loss: 0.4543 - recall_1: 0.7420 - val_loss: 0.5680 - val_recall_1: 0.7491\n",
      "Epoch 34/100\n",
      "109/109 [==============================] - 1s 7ms/step - loss: 0.4536 - recall_1: 0.7465 - val_loss: 0.7096 - val_recall_1: 0.6591\n",
      "Epoch 35/100\n",
      "109/109 [==============================] - 1s 7ms/step - loss: 0.4526 - recall_1: 0.7422 - val_loss: 0.5804 - val_recall_1: 0.7446\n",
      "Epoch 36/100\n",
      "109/109 [==============================] - 1s 7ms/step - loss: 0.4520 - recall_1: 0.7419 - val_loss: 0.5997 - val_recall_1: 0.7313\n",
      "Epoch 37/100\n",
      "109/109 [==============================] - 1s 7ms/step - loss: 0.4512 - recall_1: 0.7423 - val_loss: 0.6301 - val_recall_1: 0.7122\n",
      "Epoch 38/100\n",
      "109/109 [==============================] - 1s 7ms/step - loss: 0.4502 - recall_1: 0.7440 - val_loss: 0.6527 - val_recall_1: 0.6974\n",
      "Epoch 39/100\n",
      "109/109 [==============================] - 1s 7ms/step - loss: 0.4493 - recall_1: 0.7449 - val_loss: 0.5572 - val_recall_1: 0.7545\n",
      "Epoch 40/100\n",
      "109/109 [==============================] - 1s 7ms/step - loss: 0.4486 - recall_1: 0.7477 - val_loss: 0.5711 - val_recall_1: 0.7500\n",
      "Epoch 41/100\n",
      "109/109 [==============================] - 1s 7ms/step - loss: 0.4480 - recall_1: 0.7485 - val_loss: 0.5701 - val_recall_1: 0.7473\n",
      "Epoch 42/100\n",
      "109/109 [==============================] - 1s 7ms/step - loss: 0.4471 - recall_1: 0.7479 - val_loss: 0.6010 - val_recall_1: 0.7296\n",
      "Epoch 43/100\n",
      "109/109 [==============================] - 1s 7ms/step - loss: 0.4459 - recall_1: 0.7473 - val_loss: 0.6374 - val_recall_1: 0.7089\n",
      "Epoch 44/100\n",
      "109/109 [==============================] - 1s 7ms/step - loss: 0.4450 - recall_1: 0.7490 - val_loss: 0.5949 - val_recall_1: 0.7284\n",
      "Epoch 45/100\n",
      "109/109 [==============================] - 1s 7ms/step - loss: 0.4440 - recall_1: 0.7506 - val_loss: 0.5960 - val_recall_1: 0.7322\n",
      "Epoch 46/100\n",
      "109/109 [==============================] - 1s 7ms/step - loss: 0.4433 - recall_1: 0.7508 - val_loss: 0.5997 - val_recall_1: 0.7303\n",
      "Epoch 47/100\n",
      "109/109 [==============================] - 1s 7ms/step - loss: 0.4424 - recall_1: 0.7525 - val_loss: 0.6317 - val_recall_1: 0.7054\n",
      "Epoch 48/100\n",
      "109/109 [==============================] - 1s 7ms/step - loss: 0.4411 - recall_1: 0.7505 - val_loss: 0.6799 - val_recall_1: 0.6755\n",
      "Epoch 49/100\n",
      "109/109 [==============================] - 1s 7ms/step - loss: 0.4404 - recall_1: 0.7546 - val_loss: 0.5763 - val_recall_1: 0.7397\n",
      "Epoch 50/100\n",
      "109/109 [==============================] - 1s 7ms/step - loss: 0.4397 - recall_1: 0.7539 - val_loss: 0.6407 - val_recall_1: 0.7065\n",
      "Epoch 51/100\n",
      "109/109 [==============================] - 1s 7ms/step - loss: 0.4380 - recall_1: 0.7543 - val_loss: 0.6201 - val_recall_1: 0.7165\n",
      "Epoch 52/100\n",
      "109/109 [==============================] - 1s 7ms/step - loss: 0.4369 - recall_1: 0.7564 - val_loss: 0.7027 - val_recall_1: 0.6638\n",
      "Epoch 53/100\n",
      "109/109 [==============================] - 1s 7ms/step - loss: 0.4366 - recall_1: 0.7520 - val_loss: 0.6126 - val_recall_1: 0.7181\n",
      "Epoch 54/100\n",
      "109/109 [==============================] - 1s 7ms/step - loss: 0.4357 - recall_1: 0.7581 - val_loss: 0.6011 - val_recall_1: 0.7298\n"
     ]
    },
    {
     "data": {
      "text/plain": [
       "<keras.src.callbacks.History at 0x7fe6abc6a680>"
      ]
     },
     "execution_count": 19,
     "metadata": {},
     "output_type": "execute_result"
    }
   ],
   "source": [
    "model_1.fit(X_train, \n",
    "          y_train, \n",
    "          epochs=100, \n",
    "          batch_size=300, \n",
    "          callbacks=[early_stopper],\n",
    "          validation_split=0.15)"
   ]
  },
  {
   "cell_type": "code",
   "execution_count": 20,
   "id": "54db0c86",
   "metadata": {},
   "outputs": [
    {
     "name": "stdout",
     "output_type": "stream",
     "text": [
      "514/514 [==============================] - 1s 1ms/step\n"
     ]
    }
   ],
   "source": [
    "preds = model.predict(X_test)"
   ]
  },
  {
   "cell_type": "code",
   "execution_count": 21,
   "id": "673d002b",
   "metadata": {},
   "outputs": [
    {
     "name": "stdout",
     "output_type": "stream",
     "text": [
      "514/514 [==============================] - 1s 1ms/step\n"
     ]
    }
   ],
   "source": [
    "preds_1 = model_1.predict(X_test)"
   ]
  },
  {
   "cell_type": "code",
   "execution_count": 22,
   "id": "1611715c",
   "metadata": {},
   "outputs": [],
   "source": [
    "from sklearn.metrics import recall_score, accuracy_score, confusion_matrix, ConfusionMatrixDisplay"
   ]
  },
  {
   "cell_type": "code",
   "execution_count": 23,
   "id": "7dc1b79c",
   "metadata": {},
   "outputs": [],
   "source": [
    "def treshold_05(x):\n",
    "  if x > 0.5:\n",
    "    return 1\n",
    "  return 0"
   ]
  },
  {
   "cell_type": "code",
   "execution_count": 24,
   "id": "3b75385a",
   "metadata": {},
   "outputs": [],
   "source": [
    "preds_05 = np.vectorize(treshold_05)(preds)\n",
    "preds_1_05 = np.vectorize(treshold_05)(preds_1)"
   ]
  },
  {
   "cell_type": "code",
   "execution_count": 25,
   "id": "596d4958",
   "metadata": {},
   "outputs": [
    {
     "data": {
      "text/plain": [
       "0.7438801607599561"
      ]
     },
     "execution_count": 25,
     "metadata": {},
     "output_type": "execute_result"
    }
   ],
   "source": [
    "recall_score(y_test, preds_05)"
   ]
  },
  {
   "cell_type": "code",
   "execution_count": 26,
   "id": "e8de4f9b",
   "metadata": {},
   "outputs": [
    {
     "data": {
      "text/plain": [
       "0.7594081110705152"
      ]
     },
     "execution_count": 26,
     "metadata": {},
     "output_type": "execute_result"
    }
   ],
   "source": [
    "accuracy_score(y_test, preds_05)"
   ]
  },
  {
   "cell_type": "code",
   "execution_count": 27,
   "id": "abfbf026",
   "metadata": {},
   "outputs": [
    {
     "data": {
      "text/plain": [
       "0.7554500060893923"
      ]
     },
     "execution_count": 27,
     "metadata": {},
     "output_type": "execute_result"
    }
   ],
   "source": [
    "recall_score(y_test, preds_1_05)"
   ]
  },
  {
   "cell_type": "code",
   "execution_count": 28,
   "id": "61d39c7a",
   "metadata": {},
   "outputs": [
    {
     "data": {
      "text/plain": [
       "0.7619656558275484"
      ]
     },
     "execution_count": 28,
     "metadata": {},
     "output_type": "execute_result"
    }
   ],
   "source": [
    "accuracy_score(y_test, preds_1_05)"
   ]
  },
  {
   "cell_type": "code",
   "execution_count": 29,
   "id": "af8ebb6b",
   "metadata": {},
   "outputs": [],
   "source": [
    "cm_05 = confusion_matrix(y_test, preds_05)"
   ]
  },
  {
   "cell_type": "code",
   "execution_count": 30,
   "id": "3c4cd067",
   "metadata": {},
   "outputs": [],
   "source": [
    "cm_1_05 = confusion_matrix(y_test, preds_1_05)"
   ]
  },
  {
   "cell_type": "code",
   "execution_count": 31,
   "id": "b093ef51",
   "metadata": {},
   "outputs": [
    {
     "data": {
      "text/plain": [
       "<sklearn.metrics._plot.confusion_matrix.ConfusionMatrixDisplay at 0x7fe6ccddd120>"
      ]
     },
     "execution_count": 31,
     "metadata": {},
     "output_type": "execute_result"
    },
    {
     "data": {
      "image/png": "[encoded data removed]",
      "text/plain": [
       "<Figure size 640x480 with 2 Axes>"
      ]
     },
     "metadata": {},
     "output_type": "display_data"
    }
   ],
   "source": [
    "disp = ConfusionMatrixDisplay(confusion_matrix=cm_05)\n",
    "disp.plot()"
   ]
  },
  {
   "cell_type": "code",
   "execution_count": 32,
   "id": "3b649f1d",
   "metadata": {},
   "outputs": [
    {
     "data": {
      "text/plain": [
       "<sklearn.metrics._plot.confusion_matrix.ConfusionMatrixDisplay at 0x7fe695e016c0>"
      ]
     },
     "execution_count": 32,
     "metadata": {},
     "output_type": "execute_result"
    },
    {
     "data": {
      "image/png": "[encoded data removed]",
      "text/plain": [
       "<Figure size 640x480 with 2 Axes>"
      ]
     },
     "metadata": {},
     "output_type": "display_data"
    }
   ],
   "source": [
    "disp = ConfusionMatrixDisplay(confusion_matrix=cm_1_05)\n",
    "disp.plot()"
   ]
  },
  {
   "cell_type": "code",
   "execution_count": 33,
   "id": "88a2cccc",
   "metadata": {},
   "outputs": [],
   "source": [
    "def treshold_03(x):\n",
    "  if x > 0.3:\n",
    "    return 1\n",
    "  return 0"
   ]
  },
  {
   "cell_type": "code",
   "execution_count": 34,
   "id": "4fded7ce",
   "metadata": {},
   "outputs": [],
   "source": [
    "preds_03 = np.vectorize(treshold_03)(preds)\n",
    "preds_1_03 = np.vectorize(treshold_03)(preds_1)"
   ]
  },
  {
   "cell_type": "code",
   "execution_count": 35,
   "id": "54ed7247",
   "metadata": {},
   "outputs": [
    {
     "data": {
      "text/plain": [
       "0.8997686030934112"
      ]
     },
     "execution_count": 35,
     "metadata": {},
     "output_type": "execute_result"
    }
   ],
   "source": [
    "recall_score(y_test, preds_03)"
   ]
  },
  {
   "cell_type": "code",
   "execution_count": 36,
   "id": "1304f715",
   "metadata": {},
   "outputs": [
    {
     "data": {
      "text/plain": [
       "0.7510047497259773"
      ]
     },
     "execution_count": 36,
     "metadata": {},
     "output_type": "execute_result"
    }
   ],
   "source": [
    "accuracy_score(y_test, preds_03)"
   ]
  },
  {
   "cell_type": "code",
   "execution_count": 37,
   "id": "8cf54b31",
   "metadata": {},
   "outputs": [
    {
     "data": {
      "text/plain": [
       "0.8875898185361101"
      ]
     },
     "execution_count": 37,
     "metadata": {},
     "output_type": "execute_result"
    }
   ],
   "source": [
    "recall_score(y_test, preds_1_03)"
   ]
  },
  {
   "cell_type": "code",
   "execution_count": 38,
   "id": "823e8345",
   "metadata": {},
   "outputs": [
    {
     "data": {
      "text/plain": [
       "0.7558762635488978"
      ]
     },
     "execution_count": 38,
     "metadata": {},
     "output_type": "execute_result"
    }
   ],
   "source": [
    "accuracy_score(y_test, preds_1_03)"
   ]
  },
  {
   "cell_type": "code",
   "execution_count": 39,
   "id": "563af08b",
   "metadata": {},
   "outputs": [],
   "source": [
    "cm_03 = confusion_matrix(y_test, preds_03)"
   ]
  },
  {
   "cell_type": "code",
   "execution_count": 40,
   "id": "f26d6f32",
   "metadata": {},
   "outputs": [],
   "source": [
    "cm_1_03 = confusion_matrix(y_test, preds_1_03)"
   ]
  },
  {
   "cell_type": "code",
   "execution_count": 41,
   "id": "8ef166e8",
   "metadata": {},
   "outputs": [
    {
     "data": {
      "text/plain": [
       "<sklearn.metrics._plot.confusion_matrix.ConfusionMatrixDisplay at 0x7fe6ccc209d0>"
      ]
     },
     "execution_count": 41,
     "metadata": {},
     "output_type": "execute_result"
    },
    {
     "data": {
      "image/png": "[encoded data removed]",
      "text/plain": [
       "<Figure size 640x480 with 2 Axes>"
      ]
     },
     "metadata": {},
     "output_type": "display_data"
    }
   ],
   "source": [
    "disp = ConfusionMatrixDisplay(confusion_matrix=cm_03)\n",
    "disp.plot()"
   ]
  },
  {
   "cell_type": "code",
   "execution_count": 42,
   "id": "45786028",
   "metadata": {},
   "outputs": [
    {
     "data": {
      "text/plain": [
       "<sklearn.metrics._plot.confusion_matrix.ConfusionMatrixDisplay at 0x7fe6cccb3910>"
      ]
     },
     "execution_count": 42,
     "metadata": {},
     "output_type": "execute_result"
    },
    {
     "data": {
      "image/png": "[encoded data removed]",
      "text/plain": [
       "<Figure size 640x480 with 2 Axes>"
      ]
     },
     "metadata": {},
     "output_type": "display_data"
    }
   ],
   "source": [
    "disp = ConfusionMatrixDisplay(confusion_matrix=cm_1_03)\n",
    "disp.plot()"
   ]
  }
 ],
 "metadata": {
  "kernelspec": {
   "display_name": "Python 3 (ipykernel)",
   "language": "python",
   "name": "python3"
  },
  "language_info": {
   "codemirror_mode": {
    "name": "ipython",
    "version": 3
   },
   "file_extension": ".py",
   "mimetype": "text/x-python",
   "name": "python",
   "nbconvert_exporter": "python",
   "pygments_lexer": "ipython3",
   "version": "3.10.6"
  }
 },
 "nbformat": 4,
 "nbformat_minor": 5
}
