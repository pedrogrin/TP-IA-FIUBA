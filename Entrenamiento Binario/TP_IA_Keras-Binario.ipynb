{
 "cells": [
  {
   "cell_type": "code",
   "execution_count": 1,
   "id": "24457d57",
   "metadata": {},
   "outputs": [
    {
     "name": "stdout",
     "output_type": "stream",
     "text": [
      "Pandas Version: 1.5.3\n"
     ]
    }
   ],
   "source": [
    "import pandas as pd\n",
    "#Configuración de parametros de Pandas para mejor visualización\n",
    "pd.set_option('display.max_columns', None)\n",
    "pd.set_option('display.max_rows', None)\n",
    "pd.set_option('display.max_colwidth', None)\n",
    "pd.set_option('display.precision', 3)\n",
    "pd.set_option('plotting.backend', 'matplotlib') \n",
    "pd.options.mode.chained_assignment = None\n",
    "\n",
    "# En produccion eliminar, se incluye por informacion\n",
    "print(f'Pandas Version: {pd.__version__}') "
   ]
  },
  {
   "cell_type": "code",
   "execution_count": 2,
   "id": "3fba1fe1",
   "metadata": {},
   "outputs": [],
   "source": [
    "import matplotlib.pyplot as plt"
   ]
  },
  {
   "cell_type": "code",
   "execution_count": 3,
   "id": "07ef220c",
   "metadata": {},
   "outputs": [],
   "source": [
    "import numpy as np"
   ]
  },
  {
   "cell_type": "code",
   "execution_count": 4,
   "id": "b85a3b11",
   "metadata": {},
   "outputs": [],
   "source": [
    "X_train = pd.read_csv('/home/pedro/TpIAFiuba/Datos/X_train.csv', encoding = 'unicode_escape')\n",
    "X_test = pd.read_csv('/home/pedro/TpIAFiuba/Datos/X_test.csv', encoding = 'unicode_escape')\n",
    "\n",
    "y_train = pd.read_csv('/home/pedro/TpIAFiuba/Datos/y_train.csv', encoding = 'unicode_escape').to_numpy().reshape(-1)\n",
    "y_test = pd.read_csv('/home/pedro/TpIAFiuba/Datos/y_test.csv', encoding = 'unicode_escape').to_numpy().reshape(-1)"
   ]
  },
  {
   "cell_type": "markdown",
   "id": "45cfe806",
   "metadata": {},
   "source": [
    "BMI: 18 a 30 = 1; resto = 0\n",
    "\n",
    "MentalHealth y PhysicalHealth: 0 a 10 = 1; resto = 0\n",
    "\n",
    "SleepTime: 5 a 12 = 1; resto = 0"
   ]
  },
  {
   "cell_type": "code",
   "execution_count": 5,
   "id": "9d2fd215",
   "metadata": {},
   "outputs": [],
   "source": [
    "X_train['BMI'] = X_train['BMI'].map(lambda x: 1 if (x >= 18 and x<=30) else 0)\n",
    "X_train['SleepTime'] = X_train['SleepTime'].map(lambda x: 1 if (x >= 5 and x<= 12) else 0)\n",
    "X_train['PhysicalHealth'] = X_train['PhysicalHealth'].map(lambda x: 1 if x<=10 else 0)\n",
    "X_train['MentalHealth'] = X_train['MentalHealth'].map(lambda x: 1 if x<=10 else 0)\n",
    "\n",
    "X_test['BMI'] = X_test['BMI'].map(lambda x: 1 if (x >= 18 and x<=30) else 0)\n",
    "X_test['SleepTime'] = X_test['SleepTime'].map(lambda x: 1 if (x >= 5 and x<= 12) else 0)\n",
    "X_test['PhysicalHealth'] = X_test['PhysicalHealth'].map(lambda x: 1 if x<=10 else 0)\n",
    "X_test['MentalHealth'] = X_test['MentalHealth'].map(lambda x: 1 if x<=10 else 0)"
   ]
  },
  {
   "cell_type": "code",
   "execution_count": 6,
   "id": "6553ac2a",
   "metadata": {},
   "outputs": [
    {
     "data": {
      "text/plain": [
       "(38312, 16422)"
      ]
     },
     "execution_count": 6,
     "metadata": {},
     "output_type": "execute_result"
    }
   ],
   "source": [
    "len(X_train), len(X_test)"
   ]
  },
  {
   "cell_type": "code",
   "execution_count": 7,
   "id": "f26766de",
   "metadata": {},
   "outputs": [
    {
     "name": "stderr",
     "output_type": "stream",
     "text": [
      "2023-07-08 13:05:28.943252: I tensorflow/tsl/cuda/cudart_stub.cc:28] Could not find cuda drivers on your machine, GPU will not be used.\n",
      "2023-07-08 13:05:28.989385: I tensorflow/tsl/cuda/cudart_stub.cc:28] Could not find cuda drivers on your machine, GPU will not be used.\n",
      "2023-07-08 13:05:28.989926: I tensorflow/core/platform/cpu_feature_guard.cc:182] This TensorFlow binary is optimized to use available CPU instructions in performance-critical operations.\n",
      "To enable the following instructions: AVX2 FMA, in other operations, rebuild TensorFlow with the appropriate compiler flags.\n",
      "2023-07-08 13:05:30.062996: W tensorflow/compiler/tf2tensorrt/utils/py_utils.cc:38] TF-TRT Warning: Could not find TensorRT\n"
     ]
    }
   ],
   "source": [
    "from tensorflow.keras.models import Model, Sequential\n",
    "from tensorflow.keras.layers import Dense, Input"
   ]
  },
  {
   "cell_type": "code",
   "execution_count": 8,
   "id": "78b9e007",
   "metadata": {},
   "outputs": [],
   "source": [
    "from tensorflow.keras.optimizers import Adam"
   ]
  },
  {
   "cell_type": "code",
   "execution_count": 9,
   "id": "19711115",
   "metadata": {},
   "outputs": [],
   "source": [
    "from tensorflow.keras.callbacks import EarlyStopping"
   ]
  },
  {
   "cell_type": "code",
   "execution_count": 10,
   "id": "8e90ee60",
   "metadata": {},
   "outputs": [],
   "source": [
    "from tensorflow.keras.utils import set_random_seed"
   ]
  },
  {
   "cell_type": "code",
   "execution_count": 11,
   "id": "b0661951",
   "metadata": {},
   "outputs": [],
   "source": [
    "import tensorflow as tf"
   ]
  },
  {
   "cell_type": "code",
   "execution_count": 12,
   "id": "9f9593ab",
   "metadata": {},
   "outputs": [],
   "source": [
    "set_random_seed(10)"
   ]
  },
  {
   "cell_type": "code",
   "execution_count": 13,
   "id": "45a01f08",
   "metadata": {},
   "outputs": [
    {
     "name": "stdout",
     "output_type": "stream",
     "text": [
      "Model: \"sequential\"\n",
      "_________________________________________________________________\n",
      " Layer (type)                Output Shape              Param #   \n",
      "=================================================================\n",
      " dense (Dense)               (None, 1000)              26000     \n",
      "                                                                 \n",
      " dense_1 (Dense)             (None, 100)               100100    \n",
      "                                                                 \n",
      " dense_2 (Dense)             (None, 10)                1010      \n",
      "                                                                 \n",
      " dense_3 (Dense)             (None, 1)                 11        \n",
      "                                                                 \n",
      "=================================================================\n",
      "Total params: 127121 (496.57 KB)\n",
      "Trainable params: 127121 (496.57 KB)\n",
      "Non-trainable params: 0 (0.00 Byte)\n",
      "_________________________________________________________________\n"
     ]
    }
   ],
   "source": [
    "model = Sequential([\n",
    "    Dense(1000, activation=\"tanh\", input_shape=(25,)),\n",
    "    Dense(100, activation=\"tanh\"),\n",
    "    Dense(10, activation=\"tanh\"),\n",
    "    Dense(1, activation=\"sigmoid\")\n",
    "])\n",
    "model.summary()"
   ]
  },
  {
   "cell_type": "code",
   "execution_count": 14,
   "id": "f81182ba",
   "metadata": {},
   "outputs": [],
   "source": [
    "model.compile(loss=\"binary_crossentropy\", optimizer=Adam(learning_rate=0.0001), metrics=[tf.keras.metrics.Recall()])"
   ]
  },
  {
   "cell_type": "code",
   "execution_count": 15,
   "id": "e2b48ae3",
   "metadata": {},
   "outputs": [],
   "source": [
    "early_stopper = EarlyStopping(patience=15, restore_best_weights=True, monitor = \"val_loss\")"
   ]
  },
  {
   "cell_type": "code",
   "execution_count": 16,
   "id": "da2d2aa8",
   "metadata": {},
   "outputs": [
    {
     "name": "stdout",
     "output_type": "stream",
     "text": [
      "Epoch 1/100\n",
      "109/109 [==============================] - 3s 14ms/step - loss: 0.5743 - recall: 0.4885 - val_loss: 0.7372 - val_recall: 0.5422\n",
      "Epoch 2/100\n",
      "109/109 [==============================] - 1s 9ms/step - loss: 0.5401 - recall: 0.5956 - val_loss: 0.6421 - val_recall: 0.6325\n",
      "Epoch 3/100\n",
      "109/109 [==============================] - 1s 9ms/step - loss: 0.5332 - recall: 0.6081 - val_loss: 0.6992 - val_recall: 0.5883\n",
      "Epoch 4/100\n",
      "109/109 [==============================] - 1s 10ms/step - loss: 0.5256 - recall: 0.6166 - val_loss: 0.6937 - val_recall: 0.5965\n",
      "Epoch 5/100\n",
      "109/109 [==============================] - 1s 12ms/step - loss: 0.5173 - recall: 0.6259 - val_loss: 0.7135 - val_recall: 0.5906\n",
      "Epoch 6/100\n",
      "109/109 [==============================] - 1s 12ms/step - loss: 0.5090 - recall: 0.6478 - val_loss: 0.6411 - val_recall: 0.6572\n",
      "Epoch 7/100\n",
      "109/109 [==============================] - 1s 11ms/step - loss: 0.5032 - recall: 0.6656 - val_loss: 0.6415 - val_recall: 0.6697\n",
      "Epoch 8/100\n",
      "109/109 [==============================] - 1s 9ms/step - loss: 0.4992 - recall: 0.6784 - val_loss: 0.7073 - val_recall: 0.6294\n",
      "Epoch 9/100\n",
      "109/109 [==============================] - 1s 9ms/step - loss: 0.4973 - recall: 0.6867 - val_loss: 0.6280 - val_recall: 0.6957\n",
      "Epoch 10/100\n",
      "109/109 [==============================] - 1s 8ms/step - loss: 0.4954 - recall: 0.6911 - val_loss: 0.6274 - val_recall: 0.6986\n",
      "Epoch 11/100\n",
      "109/109 [==============================] - 1s 8ms/step - loss: 0.4936 - recall: 0.6965 - val_loss: 0.6516 - val_recall: 0.6805\n",
      "Epoch 12/100\n",
      "109/109 [==============================] - 1s 10ms/step - loss: 0.4924 - recall: 0.6992 - val_loss: 0.6289 - val_recall: 0.6990\n",
      "Epoch 13/100\n",
      "109/109 [==============================] - 1s 10ms/step - loss: 0.4914 - recall: 0.7002 - val_loss: 0.6360 - val_recall: 0.6931\n",
      "Epoch 14/100\n",
      "109/109 [==============================] - 1s 9ms/step - loss: 0.4907 - recall: 0.7001 - val_loss: 0.6406 - val_recall: 0.6880\n",
      "Epoch 15/100\n",
      "109/109 [==============================] - 1s 13ms/step - loss: 0.4899 - recall: 0.7021 - val_loss: 0.6779 - val_recall: 0.6624\n",
      "Epoch 16/100\n",
      "109/109 [==============================] - 1s 9ms/step - loss: 0.4894 - recall: 0.7024 - val_loss: 0.5867 - val_recall: 0.7327\n",
      "Epoch 17/100\n",
      "109/109 [==============================] - 1s 11ms/step - loss: 0.4885 - recall: 0.7053 - val_loss: 0.6360 - val_recall: 0.6927\n",
      "Epoch 18/100\n",
      "109/109 [==============================] - 1s 9ms/step - loss: 0.4878 - recall: 0.7063 - val_loss: 0.6352 - val_recall: 0.6891\n",
      "Epoch 19/100\n",
      "109/109 [==============================] - 1s 9ms/step - loss: 0.4876 - recall: 0.7051 - val_loss: 0.6423 - val_recall: 0.6911\n",
      "Epoch 20/100\n",
      "109/109 [==============================] - 1s 9ms/step - loss: 0.4868 - recall: 0.7074 - val_loss: 0.6369 - val_recall: 0.6998\n",
      "Epoch 21/100\n",
      "109/109 [==============================] - 1s 9ms/step - loss: 0.4862 - recall: 0.7084 - val_loss: 0.6438 - val_recall: 0.6950\n",
      "Epoch 22/100\n",
      "109/109 [==============================] - 1s 9ms/step - loss: 0.4861 - recall: 0.7064 - val_loss: 0.6310 - val_recall: 0.7012\n",
      "Epoch 23/100\n",
      "109/109 [==============================] - 1s 9ms/step - loss: 0.4859 - recall: 0.7106 - val_loss: 0.6065 - val_recall: 0.7132\n",
      "Epoch 24/100\n",
      "109/109 [==============================] - 1s 9ms/step - loss: 0.4851 - recall: 0.7083 - val_loss: 0.5820 - val_recall: 0.7407\n",
      "Epoch 25/100\n",
      "109/109 [==============================] - 1s 9ms/step - loss: 0.4848 - recall: 0.7127 - val_loss: 0.6349 - val_recall: 0.7025\n",
      "Epoch 26/100\n",
      "109/109 [==============================] - 1s 9ms/step - loss: 0.4847 - recall: 0.7112 - val_loss: 0.6550 - val_recall: 0.6795\n",
      "Epoch 27/100\n",
      "109/109 [==============================] - 1s 9ms/step - loss: 0.4846 - recall: 0.7133 - val_loss: 0.6156 - val_recall: 0.7129\n",
      "Epoch 28/100\n",
      "109/109 [==============================] - 1s 9ms/step - loss: 0.4842 - recall: 0.7156 - val_loss: 0.6567 - val_recall: 0.6797\n",
      "Epoch 29/100\n",
      "109/109 [==============================] - 1s 9ms/step - loss: 0.4837 - recall: 0.7086 - val_loss: 0.6146 - val_recall: 0.7160\n",
      "Epoch 30/100\n",
      "109/109 [==============================] - 1s 8ms/step - loss: 0.4833 - recall: 0.7151 - val_loss: 0.6327 - val_recall: 0.7021\n",
      "Epoch 31/100\n",
      "109/109 [==============================] - 1s 8ms/step - loss: 0.4831 - recall: 0.7135 - val_loss: 0.5995 - val_recall: 0.7263\n",
      "Epoch 32/100\n",
      "109/109 [==============================] - 1s 9ms/step - loss: 0.4828 - recall: 0.7142 - val_loss: 0.5946 - val_recall: 0.7331\n",
      "Epoch 33/100\n",
      "109/109 [==============================] - 1s 9ms/step - loss: 0.4825 - recall: 0.7143 - val_loss: 0.6301 - val_recall: 0.6993\n",
      "Epoch 34/100\n",
      "109/109 [==============================] - 1s 8ms/step - loss: 0.4824 - recall: 0.7173 - val_loss: 0.6264 - val_recall: 0.7033\n",
      "Epoch 35/100\n",
      "109/109 [==============================] - 1s 9ms/step - loss: 0.4820 - recall: 0.7106 - val_loss: 0.6277 - val_recall: 0.7035\n",
      "Epoch 36/100\n",
      "109/109 [==============================] - 1s 9ms/step - loss: 0.4819 - recall: 0.7160 - val_loss: 0.6208 - val_recall: 0.7094\n",
      "Epoch 37/100\n",
      "109/109 [==============================] - 1s 9ms/step - loss: 0.4816 - recall: 0.7164 - val_loss: 0.6283 - val_recall: 0.6997\n",
      "Epoch 38/100\n",
      "109/109 [==============================] - 1s 9ms/step - loss: 0.4815 - recall: 0.7172 - val_loss: 0.6220 - val_recall: 0.7063\n",
      "Epoch 39/100\n",
      "109/109 [==============================] - 1s 9ms/step - loss: 0.4814 - recall: 0.7142 - val_loss: 0.5898 - val_recall: 0.7308\n"
     ]
    },
    {
     "data": {
      "text/plain": [
       "<keras.src.callbacks.History at 0x7faacc2b4250>"
      ]
     },
     "execution_count": 16,
     "metadata": {},
     "output_type": "execute_result"
    }
   ],
   "source": [
    "model.fit(X_train, \n",
    "          y_train, \n",
    "          epochs=100, \n",
    "          batch_size=300, \n",
    "          callbacks=[early_stopper],\n",
    "          validation_split=0.15)"
   ]
  },
  {
   "cell_type": "code",
   "execution_count": 17,
   "id": "f8cb971f",
   "metadata": {},
   "outputs": [
    {
     "name": "stdout",
     "output_type": "stream",
     "text": [
      "Model: \"sequential\"\n",
      "_________________________________________________________________\n",
      " Layer (type)                Output Shape              Param #   \n",
      "=================================================================\n",
      " dense (Dense)               (None, 1000)              26000     \n",
      "                                                                 \n",
      " dense_1 (Dense)             (None, 100)               100100    \n",
      "                                                                 \n",
      " dense_2 (Dense)             (None, 10)                1010      \n",
      "                                                                 \n",
      " dense_3 (Dense)             (None, 1)                 11        \n",
      "                                                                 \n",
      "=================================================================\n",
      "Total params: 127121 (496.57 KB)\n",
      "Trainable params: 127121 (496.57 KB)\n",
      "Non-trainable params: 0 (0.00 Byte)\n",
      "_________________________________________________________________\n"
     ]
    }
   ],
   "source": [
    "model_1 = Sequential([\n",
    "    Dense(1000, activation=\"relu\", input_shape=(25,)),\n",
    "    Dense(100, activation=\"relu\"),\n",
    "    Dense(10, activation=\"relu\"),\n",
    "    Dense(1, activation=\"sigmoid\")\n",
    "])\n",
    "model.summary()"
   ]
  },
  {
   "cell_type": "code",
   "execution_count": 18,
   "id": "7ac2f883",
   "metadata": {},
   "outputs": [],
   "source": [
    "model_1.compile(loss=\"binary_crossentropy\", optimizer=Adam(learning_rate=0.0001), metrics=[tf.keras.metrics.Recall()])"
   ]
  },
  {
   "cell_type": "code",
   "execution_count": 19,
   "id": "c741f7c9",
   "metadata": {},
   "outputs": [],
   "source": [
    "early_stopper = EarlyStopping(patience=15, restore_best_weights=True, monitor = \"val_loss\")"
   ]
  },
  {
   "cell_type": "code",
   "execution_count": 20,
   "id": "be5291f3",
   "metadata": {},
   "outputs": [
    {
     "name": "stdout",
     "output_type": "stream",
     "text": [
      "Epoch 1/100\n",
      "109/109 [==============================] - 2s 14ms/step - loss: 0.5917 - recall_1: 0.4170 - val_loss: 0.7463 - val_recall_1: 0.5552\n",
      "Epoch 2/100\n",
      "109/109 [==============================] - 1s 8ms/step - loss: 0.5279 - recall_1: 0.6196 - val_loss: 0.6200 - val_recall_1: 0.6588\n",
      "Epoch 3/100\n",
      "109/109 [==============================] - 1s 8ms/step - loss: 0.5104 - recall_1: 0.6432 - val_loss: 0.6595 - val_recall_1: 0.6308\n",
      "Epoch 4/100\n",
      "109/109 [==============================] - 1s 8ms/step - loss: 0.4976 - recall_1: 0.6578 - val_loss: 0.6564 - val_recall_1: 0.6440\n",
      "Epoch 5/100\n",
      "109/109 [==============================] - 1s 8ms/step - loss: 0.4900 - recall_1: 0.6781 - val_loss: 0.6695 - val_recall_1: 0.6386\n",
      "Epoch 6/100\n",
      "109/109 [==============================] - 1s 8ms/step - loss: 0.4853 - recall_1: 0.6962 - val_loss: 0.6431 - val_recall_1: 0.6762\n",
      "Epoch 7/100\n",
      "109/109 [==============================] - 1s 8ms/step - loss: 0.4830 - recall_1: 0.7033 - val_loss: 0.6274 - val_recall_1: 0.6955\n",
      "Epoch 8/100\n",
      "109/109 [==============================] - 1s 8ms/step - loss: 0.4807 - recall_1: 0.7086 - val_loss: 0.6888 - val_recall_1: 0.6513\n",
      "Epoch 9/100\n",
      "109/109 [==============================] - 1s 8ms/step - loss: 0.4794 - recall_1: 0.7123 - val_loss: 0.6618 - val_recall_1: 0.6798\n",
      "Epoch 10/100\n",
      "109/109 [==============================] - 1s 8ms/step - loss: 0.4779 - recall_1: 0.7162 - val_loss: 0.6028 - val_recall_1: 0.7230\n",
      "Epoch 11/100\n",
      "109/109 [==============================] - 1s 8ms/step - loss: 0.4765 - recall_1: 0.7175 - val_loss: 0.6092 - val_recall_1: 0.7178\n",
      "Epoch 12/100\n",
      "109/109 [==============================] - 1s 8ms/step - loss: 0.4759 - recall_1: 0.7206 - val_loss: 0.6296 - val_recall_1: 0.7047\n",
      "Epoch 13/100\n",
      "109/109 [==============================] - 1s 8ms/step - loss: 0.4746 - recall_1: 0.7228 - val_loss: 0.6289 - val_recall_1: 0.7085\n",
      "Epoch 14/100\n",
      "109/109 [==============================] - 1s 8ms/step - loss: 0.4743 - recall_1: 0.7236 - val_loss: 0.6202 - val_recall_1: 0.7143\n",
      "Epoch 15/100\n",
      "109/109 [==============================] - 1s 8ms/step - loss: 0.4734 - recall_1: 0.7219 - val_loss: 0.6543 - val_recall_1: 0.6892\n",
      "Epoch 16/100\n",
      "109/109 [==============================] - 1s 8ms/step - loss: 0.4727 - recall_1: 0.7265 - val_loss: 0.6382 - val_recall_1: 0.7037\n",
      "Epoch 17/100\n",
      "109/109 [==============================] - 1s 8ms/step - loss: 0.4725 - recall_1: 0.7238 - val_loss: 0.6522 - val_recall_1: 0.6913\n",
      "Epoch 18/100\n",
      "109/109 [==============================] - 1s 9ms/step - loss: 0.4711 - recall_1: 0.7280 - val_loss: 0.6073 - val_recall_1: 0.7218\n",
      "Epoch 19/100\n",
      "109/109 [==============================] - 1s 9ms/step - loss: 0.4709 - recall_1: 0.7270 - val_loss: 0.6025 - val_recall_1: 0.7240\n",
      "Epoch 20/100\n",
      "109/109 [==============================] - 1s 9ms/step - loss: 0.4702 - recall_1: 0.7264 - val_loss: 0.6342 - val_recall_1: 0.7061\n",
      "Epoch 21/100\n",
      "109/109 [==============================] - 1s 9ms/step - loss: 0.4690 - recall_1: 0.7293 - val_loss: 0.6857 - val_recall_1: 0.6715\n",
      "Epoch 22/100\n",
      "109/109 [==============================] - 1s 8ms/step - loss: 0.4686 - recall_1: 0.7262 - val_loss: 0.6439 - val_recall_1: 0.6979\n",
      "Epoch 23/100\n",
      "109/109 [==============================] - 1s 8ms/step - loss: 0.4682 - recall_1: 0.7297 - val_loss: 0.6808 - val_recall_1: 0.6800\n",
      "Epoch 24/100\n",
      "109/109 [==============================] - 1s 8ms/step - loss: 0.4672 - recall_1: 0.7296 - val_loss: 0.5990 - val_recall_1: 0.7261\n",
      "Epoch 25/100\n",
      "109/109 [==============================] - 1s 8ms/step - loss: 0.4663 - recall_1: 0.7326 - val_loss: 0.6049 - val_recall_1: 0.7273\n",
      "Epoch 26/100\n",
      "109/109 [==============================] - 1s 8ms/step - loss: 0.4661 - recall_1: 0.7308 - val_loss: 0.6265 - val_recall_1: 0.7115\n",
      "Epoch 27/100\n",
      "109/109 [==============================] - 1s 9ms/step - loss: 0.4660 - recall_1: 0.7316 - val_loss: 0.6431 - val_recall_1: 0.6979\n",
      "Epoch 28/100\n",
      "109/109 [==============================] - 1s 9ms/step - loss: 0.4647 - recall_1: 0.7338 - val_loss: 0.6188 - val_recall_1: 0.7115\n",
      "Epoch 29/100\n",
      "109/109 [==============================] - 1s 9ms/step - loss: 0.4646 - recall_1: 0.7354 - val_loss: 0.6785 - val_recall_1: 0.6800\n",
      "Epoch 30/100\n",
      "109/109 [==============================] - 1s 8ms/step - loss: 0.4634 - recall_1: 0.7308 - val_loss: 0.6876 - val_recall_1: 0.6746\n",
      "Epoch 31/100\n",
      "109/109 [==============================] - 1s 8ms/step - loss: 0.4626 - recall_1: 0.7334 - val_loss: 0.6308 - val_recall_1: 0.7129\n",
      "Epoch 32/100\n",
      "109/109 [==============================] - 1s 8ms/step - loss: 0.4621 - recall_1: 0.7363 - val_loss: 0.6206 - val_recall_1: 0.7098\n",
      "Epoch 33/100\n",
      "109/109 [==============================] - 1s 8ms/step - loss: 0.4610 - recall_1: 0.7362 - val_loss: 0.5714 - val_recall_1: 0.7444\n",
      "Epoch 34/100\n",
      "109/109 [==============================] - 1s 8ms/step - loss: 0.4608 - recall_1: 0.7385 - val_loss: 0.6903 - val_recall_1: 0.6767\n",
      "Epoch 35/100\n",
      "109/109 [==============================] - 1s 8ms/step - loss: 0.4599 - recall_1: 0.7351 - val_loss: 0.5913 - val_recall_1: 0.7360\n",
      "Epoch 36/100\n",
      "109/109 [==============================] - 1s 9ms/step - loss: 0.4592 - recall_1: 0.7376 - val_loss: 0.5914 - val_recall_1: 0.7280\n",
      "Epoch 37/100\n",
      "109/109 [==============================] - 1s 9ms/step - loss: 0.4589 - recall_1: 0.7389 - val_loss: 0.6192 - val_recall_1: 0.7134\n",
      "Epoch 38/100\n",
      "109/109 [==============================] - 1s 9ms/step - loss: 0.4581 - recall_1: 0.7369 - val_loss: 0.6551 - val_recall_1: 0.6948\n",
      "Epoch 39/100\n",
      "109/109 [==============================] - 1s 8ms/step - loss: 0.4575 - recall_1: 0.7350 - val_loss: 0.5492 - val_recall_1: 0.7583\n",
      "Epoch 40/100\n",
      "109/109 [==============================] - 1s 8ms/step - loss: 0.4568 - recall_1: 0.7376 - val_loss: 0.5655 - val_recall_1: 0.7517\n",
      "Epoch 41/100\n",
      "109/109 [==============================] - 1s 8ms/step - loss: 0.4565 - recall_1: 0.7414 - val_loss: 0.5697 - val_recall_1: 0.7461\n",
      "Epoch 42/100\n",
      "109/109 [==============================] - 1s 8ms/step - loss: 0.4558 - recall_1: 0.7384 - val_loss: 0.6321 - val_recall_1: 0.7047\n",
      "Epoch 43/100\n",
      "109/109 [==============================] - 1s 8ms/step - loss: 0.4548 - recall_1: 0.7379 - val_loss: 0.6308 - val_recall_1: 0.7099\n",
      "Epoch 44/100\n",
      "109/109 [==============================] - 1s 8ms/step - loss: 0.4542 - recall_1: 0.7391 - val_loss: 0.5982 - val_recall_1: 0.7291\n",
      "Epoch 45/100\n",
      "109/109 [==============================] - 1s 8ms/step - loss: 0.4533 - recall_1: 0.7438 - val_loss: 0.5843 - val_recall_1: 0.7409\n",
      "Epoch 46/100\n",
      "109/109 [==============================] - 1s 8ms/step - loss: 0.4529 - recall_1: 0.7405 - val_loss: 0.5948 - val_recall_1: 0.7280\n",
      "Epoch 47/100\n",
      "109/109 [==============================] - 1s 8ms/step - loss: 0.4521 - recall_1: 0.7414 - val_loss: 0.6138 - val_recall_1: 0.7122\n",
      "Epoch 48/100\n",
      "109/109 [==============================] - 1s 8ms/step - loss: 0.4510 - recall_1: 0.7414 - val_loss: 0.6734 - val_recall_1: 0.6826\n",
      "Epoch 49/100\n",
      "109/109 [==============================] - 1s 8ms/step - loss: 0.4505 - recall_1: 0.7429 - val_loss: 0.5780 - val_recall_1: 0.7336\n",
      "Epoch 50/100\n",
      "109/109 [==============================] - 1s 9ms/step - loss: 0.4499 - recall_1: 0.7432 - val_loss: 0.6279 - val_recall_1: 0.7117\n",
      "Epoch 51/100\n",
      "109/109 [==============================] - 1s 8ms/step - loss: 0.4488 - recall_1: 0.7440 - val_loss: 0.6121 - val_recall_1: 0.7164\n",
      "Epoch 52/100\n",
      "109/109 [==============================] - 1s 9ms/step - loss: 0.4481 - recall_1: 0.7456 - val_loss: 0.7176 - val_recall_1: 0.6487\n",
      "Epoch 53/100\n",
      "109/109 [==============================] - 1s 8ms/step - loss: 0.4480 - recall_1: 0.7402 - val_loss: 0.6218 - val_recall_1: 0.7120\n",
      "Epoch 54/100\n",
      "109/109 [==============================] - 1s 8ms/step - loss: 0.4468 - recall_1: 0.7463 - val_loss: 0.5979 - val_recall_1: 0.7305\n"
     ]
    },
    {
     "data": {
      "text/plain": [
       "<keras.src.callbacks.History at 0x7faabd41cf70>"
      ]
     },
     "execution_count": 20,
     "metadata": {},
     "output_type": "execute_result"
    }
   ],
   "source": [
    "model_1.fit(X_train, \n",
    "          y_train, \n",
    "          epochs=100, \n",
    "          batch_size=300, \n",
    "          callbacks=[early_stopper],\n",
    "          validation_split=0.15)"
   ]
  },
  {
   "cell_type": "code",
   "execution_count": 21,
   "id": "54db0c86",
   "metadata": {},
   "outputs": [
    {
     "name": "stdout",
     "output_type": "stream",
     "text": [
      "514/514 [==============================] - 1s 2ms/step\n"
     ]
    }
   ],
   "source": [
    "preds = model.predict(X_test)"
   ]
  },
  {
   "cell_type": "code",
   "execution_count": 22,
   "id": "673d002b",
   "metadata": {},
   "outputs": [
    {
     "name": "stdout",
     "output_type": "stream",
     "text": [
      "514/514 [==============================] - 1s 2ms/step\n"
     ]
    }
   ],
   "source": [
    "preds_1 = model_1.predict(X_test)"
   ]
  },
  {
   "cell_type": "code",
   "execution_count": 23,
   "id": "1611715c",
   "metadata": {},
   "outputs": [],
   "source": [
    "from sklearn.metrics import recall_score, accuracy_score, confusion_matrix, ConfusionMatrixDisplay"
   ]
  },
  {
   "cell_type": "code",
   "execution_count": 24,
   "id": "7dc1b79c",
   "metadata": {},
   "outputs": [],
   "source": [
    "def treshold_05(x):\n",
    "  if x > 0.5:\n",
    "    return 1\n",
    "  return 0"
   ]
  },
  {
   "cell_type": "code",
   "execution_count": 25,
   "id": "3b75385a",
   "metadata": {},
   "outputs": [],
   "source": [
    "preds_05 = np.vectorize(treshold_05)(preds)\n",
    "preds_1_05 = np.vectorize(treshold_05)(preds_1)"
   ]
  },
  {
   "cell_type": "code",
   "execution_count": 26,
   "id": "596d4958",
   "metadata": {},
   "outputs": [
    {
     "data": {
      "text/plain": [
       "0.7403483132383388"
      ]
     },
     "execution_count": 26,
     "metadata": {},
     "output_type": "execute_result"
    }
   ],
   "source": [
    "recall_score(y_test, preds_05)"
   ]
  },
  {
   "cell_type": "code",
   "execution_count": 27,
   "id": "e8de4f9b",
   "metadata": {},
   "outputs": [
    {
     "data": {
      "text/plain": [
       "0.7596516867616612"
      ]
     },
     "execution_count": 27,
     "metadata": {},
     "output_type": "execute_result"
    }
   ],
   "source": [
    "accuracy_score(y_test, preds_05)"
   ]
  },
  {
   "cell_type": "code",
   "execution_count": 28,
   "id": "abfbf026",
   "metadata": {},
   "outputs": [
    {
     "data": {
      "text/plain": [
       "0.7589818536110097"
      ]
     },
     "execution_count": 28,
     "metadata": {},
     "output_type": "execute_result"
    }
   ],
   "source": [
    "recall_score(y_test, preds_1_05)"
   ]
  },
  {
   "cell_type": "code",
   "execution_count": 29,
   "id": "61d39c7a",
   "metadata": {},
   "outputs": [
    {
     "data": {
      "text/plain": [
       "0.7623310193642674"
      ]
     },
     "execution_count": 29,
     "metadata": {},
     "output_type": "execute_result"
    }
   ],
   "source": [
    "accuracy_score(y_test, preds_1_05)"
   ]
  },
  {
   "cell_type": "code",
   "execution_count": 30,
   "id": "af8ebb6b",
   "metadata": {},
   "outputs": [],
   "source": [
    "cm_05 = confusion_matrix(y_test, preds_05)"
   ]
  },
  {
   "cell_type": "code",
   "execution_count": 31,
   "id": "3c4cd067",
   "metadata": {},
   "outputs": [],
   "source": [
    "cm_1_05 = confusion_matrix(y_test, preds_1_05)"
   ]
  },
  {
   "cell_type": "code",
   "execution_count": 32,
   "id": "b093ef51",
   "metadata": {},
   "outputs": [
    {
     "data": {
      "text/plain": [
       "<sklearn.metrics._plot.confusion_matrix.ConfusionMatrixDisplay at 0x7faa9e114220>"
      ]
     },
     "execution_count": 32,
     "metadata": {},
     "output_type": "execute_result"
    },
    {
     "data": {
      "image/png": "[encoded data removed]",
      "text/plain": [
       "<Figure size 640x480 with 2 Axes>"
      ]
     },
     "metadata": {},
     "output_type": "display_data"
    }
   ],
   "source": [
    "disp = ConfusionMatrixDisplay(confusion_matrix=cm_05)\n",
    "disp.plot()"
   ]
  },
  {
   "cell_type": "code",
   "execution_count": 33,
   "id": "3b649f1d",
   "metadata": {},
   "outputs": [
    {
     "data": {
      "text/plain": [
       "<sklearn.metrics._plot.confusion_matrix.ConfusionMatrixDisplay at 0x7faa9e052410>"
      ]
     },
     "execution_count": 33,
     "metadata": {},
     "output_type": "execute_result"
    },
    {
     "data": {
      "image/png": "[encoded data removed]",
      "text/plain": [
       "<Figure size 640x480 with 2 Axes>"
      ]
     },
     "metadata": {},
     "output_type": "display_data"
    }
   ],
   "source": [
    "disp = ConfusionMatrixDisplay(confusion_matrix=cm_1_05)\n",
    "disp.plot()"
   ]
  },
  {
   "cell_type": "code",
   "execution_count": 34,
   "id": "88a2cccc",
   "metadata": {},
   "outputs": [],
   "source": [
    "def treshold_03(x):\n",
    "  if x > 0.3:\n",
    "    return 1\n",
    "  return 0"
   ]
  },
  {
   "cell_type": "code",
   "execution_count": 35,
   "id": "4fded7ce",
   "metadata": {},
   "outputs": [],
   "source": [
    "preds_03 = np.vectorize(treshold_03)(preds)\n",
    "preds_1_03 = np.vectorize(treshold_03)(preds_1)"
   ]
  },
  {
   "cell_type": "code",
   "execution_count": 36,
   "id": "54ed7247",
   "metadata": {},
   "outputs": [
    {
     "data": {
      "text/plain": [
       "0.8957496041895019"
      ]
     },
     "execution_count": 36,
     "metadata": {},
     "output_type": "execute_result"
    }
   ],
   "source": [
    "recall_score(y_test, preds_03)"
   ]
  },
  {
   "cell_type": "code",
   "execution_count": 37,
   "id": "1304f715",
   "metadata": {},
   "outputs": [
    {
     "data": {
      "text/plain": [
       "0.7499695530386068"
      ]
     },
     "execution_count": 37,
     "metadata": {},
     "output_type": "execute_result"
    }
   ],
   "source": [
    "accuracy_score(y_test, preds_03)"
   ]
  },
  {
   "cell_type": "code",
   "execution_count": 38,
   "id": "8cf54b31",
   "metadata": {},
   "outputs": [
    {
     "data": {
      "text/plain": [
       "0.8873462428449641"
      ]
     },
     "execution_count": 38,
     "metadata": {},
     "output_type": "execute_result"
    }
   ],
   "source": [
    "recall_score(y_test, preds_1_03)"
   ]
  },
  {
   "cell_type": "code",
   "execution_count": 39,
   "id": "823e8345",
   "metadata": {},
   "outputs": [
    {
     "data": {
      "text/plain": [
       "0.751796370722202"
      ]
     },
     "execution_count": 39,
     "metadata": {},
     "output_type": "execute_result"
    }
   ],
   "source": [
    "accuracy_score(y_test, preds_1_03)"
   ]
  },
  {
   "cell_type": "code",
   "execution_count": 40,
   "id": "563af08b",
   "metadata": {},
   "outputs": [],
   "source": [
    "cm_03 = confusion_matrix(y_test, preds_03)"
   ]
  },
  {
   "cell_type": "code",
   "execution_count": 41,
   "id": "f26d6f32",
   "metadata": {},
   "outputs": [],
   "source": [
    "cm_1_03 = confusion_matrix(y_test, preds_1_03)"
   ]
  },
  {
   "cell_type": "code",
   "execution_count": 42,
   "id": "8ef166e8",
   "metadata": {},
   "outputs": [
    {
     "data": {
      "text/plain": [
       "<sklearn.metrics._plot.confusion_matrix.ConfusionMatrixDisplay at 0x7faa9df7c5b0>"
      ]
     },
     "execution_count": 42,
     "metadata": {},
     "output_type": "execute_result"
    },
    {
     "data": {
      "image/png": "[encoded data removed]",
      "text/plain": [
       "<Figure size 640x480 with 2 Axes>"
      ]
     },
     "metadata": {},
     "output_type": "display_data"
    }
   ],
   "source": [
    "disp = ConfusionMatrixDisplay(confusion_matrix=cm_03)\n",
    "disp.plot()"
   ]
  },
  {
   "cell_type": "code",
   "execution_count": 43,
   "id": "45786028",
   "metadata": {},
   "outputs": [
    {
     "data": {
      "text/plain": [
       "<sklearn.metrics._plot.confusion_matrix.ConfusionMatrixDisplay at 0x7faa9fa64af0>"
      ]
     },
     "execution_count": 43,
     "metadata": {},
     "output_type": "execute_result"
    },
    {
     "data": {
      "image/png": "[encoded data removed]",
      "text/plain": [
       "<Figure size 640x480 with 2 Axes>"
      ]
     },
     "metadata": {},
     "output_type": "display_data"
    }
   ],
   "source": [
    "disp = ConfusionMatrixDisplay(confusion_matrix=cm_1_03)\n",
    "disp.plot()"
   ]
  }
 ],
 "metadata": {
  "kernelspec": {
   "display_name": "Python 3 (ipykernel)",
   "language": "python",
   "name": "python3"
  },
  "language_info": {
   "codemirror_mode": {
    "name": "ipython",
    "version": 3
   },
   "file_extension": ".py",
   "mimetype": "text/x-python",
   "name": "python",
   "nbconvert_exporter": "python",
   "pygments_lexer": "ipython3",
   "version": "3.10.6"
  }
 },
 "nbformat": 4,
 "nbformat_minor": 5
}
